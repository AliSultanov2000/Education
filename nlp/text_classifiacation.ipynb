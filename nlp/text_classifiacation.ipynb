{
 "cells": [
  {
   "cell_type": "markdown",
   "metadata": {},
   "source": [
    "# Text classification using classic ML approach"
   ]
  },
  {
   "cell_type": "code",
   "execution_count": 1,
   "metadata": {},
   "outputs": [],
   "source": [
    "import pandas as pd\n",
    "import re\n",
    "import gc\n",
    "import warnings\n",
    "import pickle\n",
    "\n",
    "from nltk.stem import SnowballStemmer\n",
    "from nltk.tokenize import word_tokenize\n",
    "from nltk.corpus import stopwords\n",
    "\n",
    "from sklearn.model_selection import train_test_split, GridSearchCV, KFold\n",
    "from sklearn.pipeline import Pipeline\n",
    "from sklearn.feature_extraction.text import TfidfVectorizer\n",
    "from sklearn.linear_model import LogisticRegression\n",
    "from sklearn.exceptions import ConvergenceWarning\n",
    "from sklearn.metrics import confusion_matrix, ConfusionMatrixDisplay, f1_score, auc, roc_curve, RocCurveDisplay\n",
    "from sklearn.preprocessing import FunctionTransformer\n",
    "\n",
    "\n",
    "import matplotlib.pyplot as plt\n",
    "\n",
    "# Ignore ConvergenceWarning\n",
    "warnings.filterwarnings(\"ignore\", category = ConvergenceWarning)"
   ]
  },
  {
   "cell_type": "markdown",
   "metadata": {},
   "source": [
    "#### About Dataset"
   ]
  },
  {
   "cell_type": "code",
   "execution_count": 2,
   "metadata": {},
   "outputs": [
    {
     "data": {
      "text/html": [
       "<div>\n",
       "<style scoped>\n",
       "    .dataframe tbody tr th:only-of-type {\n",
       "        vertical-align: middle;\n",
       "    }\n",
       "\n",
       "    .dataframe tbody tr th {\n",
       "        vertical-align: top;\n",
       "    }\n",
       "\n",
       "    .dataframe thead th {\n",
       "        text-align: right;\n",
       "    }\n",
       "</style>\n",
       "<table border=\"1\" class=\"dataframe\">\n",
       "  <thead>\n",
       "    <tr style=\"text-align: right;\">\n",
       "      <th></th>\n",
       "      <th>review</th>\n",
       "      <th>sentiment</th>\n",
       "    </tr>\n",
       "  </thead>\n",
       "  <tbody>\n",
       "    <tr>\n",
       "      <th>43588</th>\n",
       "      <td>A variation of the same plot line was used in ...</td>\n",
       "      <td>positive</td>\n",
       "    </tr>\n",
       "    <tr>\n",
       "      <th>2153</th>\n",
       "      <td>The promotions for \"Clubbed\" project a slick l...</td>\n",
       "      <td>negative</td>\n",
       "    </tr>\n",
       "    <tr>\n",
       "      <th>16608</th>\n",
       "      <td>TYSON &lt;br /&gt;&lt;br /&gt;Aspect ratio: 1.33:1&lt;br /&gt;&lt;b...</td>\n",
       "      <td>negative</td>\n",
       "    </tr>\n",
       "    <tr>\n",
       "      <th>31415</th>\n",
       "      <td>The Soap is an interesting movie and very bril...</td>\n",
       "      <td>positive</td>\n",
       "    </tr>\n",
       "    <tr>\n",
       "      <th>6261</th>\n",
       "      <td>Sad... really sad. This movie has nothing (hmm...</td>\n",
       "      <td>negative</td>\n",
       "    </tr>\n",
       "    <tr>\n",
       "      <th>5066</th>\n",
       "      <td>I've seen this movie when I was young, and I r...</td>\n",
       "      <td>positive</td>\n",
       "    </tr>\n",
       "    <tr>\n",
       "      <th>36656</th>\n",
       "      <td>In fact, the nature of the whole series is irr...</td>\n",
       "      <td>positive</td>\n",
       "    </tr>\n",
       "    <tr>\n",
       "      <th>34695</th>\n",
       "      <td>One of those films that I happened across thro...</td>\n",
       "      <td>positive</td>\n",
       "    </tr>\n",
       "    <tr>\n",
       "      <th>23081</th>\n",
       "      <td>I am a huge fan of Vonnegut's work and I'm ver...</td>\n",
       "      <td>positive</td>\n",
       "    </tr>\n",
       "    <tr>\n",
       "      <th>24958</th>\n",
       "      <td>Let me tell you a story.&lt;br /&gt;&lt;br /&gt;One day on...</td>\n",
       "      <td>negative</td>\n",
       "    </tr>\n",
       "  </tbody>\n",
       "</table>\n",
       "</div>"
      ],
      "text/plain": [
       "                                                  review sentiment\n",
       "43588  A variation of the same plot line was used in ...  positive\n",
       "2153   The promotions for \"Clubbed\" project a slick l...  negative\n",
       "16608  TYSON <br /><br />Aspect ratio: 1.33:1<br /><b...  negative\n",
       "31415  The Soap is an interesting movie and very bril...  positive\n",
       "6261   Sad... really sad. This movie has nothing (hmm...  negative\n",
       "5066   I've seen this movie when I was young, and I r...  positive\n",
       "36656  In fact, the nature of the whole series is irr...  positive\n",
       "34695  One of those films that I happened across thro...  positive\n",
       "23081  I am a huge fan of Vonnegut's work and I'm ver...  positive\n",
       "24958  Let me tell you a story.<br /><br />One day on...  negative"
      ]
     },
     "execution_count": 2,
     "metadata": {},
     "output_type": "execute_result"
    }
   ],
   "source": [
    "df = pd.read_csv(r'C:\\Users\\1NR_Operator_33\\Desktop\\imdb_dataset.csv')\n",
    "df.sample(10)"
   ]
  },
  {
   "cell_type": "code",
   "execution_count": 3,
   "metadata": {},
   "outputs": [
    {
     "name": "stdout",
     "output_type": "stream",
     "text": [
      "<class 'pandas.core.frame.DataFrame'>\n",
      "RangeIndex: 50000 entries, 0 to 49999\n",
      "Data columns (total 2 columns):\n",
      " #   Column     Non-Null Count  Dtype \n",
      "---  ------     --------------  ----- \n",
      " 0   review     50000 non-null  object\n",
      " 1   sentiment  50000 non-null  object\n",
      "dtypes: object(2)\n",
      "memory usage: 781.4+ KB\n"
     ]
    }
   ],
   "source": [
    "df.info()"
   ]
  },
  {
   "cell_type": "code",
   "execution_count": 3,
   "metadata": {},
   "outputs": [
    {
     "name": "stdout",
     "output_type": "stream",
     "text": [
      "Dataset dimensionality: (50000, 2)\n",
      "The count of classes: 2\n"
     ]
    }
   ],
   "source": [
    "# The Count of classes \n",
    "print(f'Dataset dimensionality: {df.shape}')\n",
    "print(f'The count of classes: {len(df[\"sentiment\"].unique())}')"
   ]
  },
  {
   "cell_type": "code",
   "execution_count": 4,
   "metadata": {},
   "outputs": [
    {
     "data": {
      "text/html": [
       "<div>\n",
       "<style scoped>\n",
       "    .dataframe tbody tr th:only-of-type {\n",
       "        vertical-align: middle;\n",
       "    }\n",
       "\n",
       "    .dataframe tbody tr th {\n",
       "        vertical-align: top;\n",
       "    }\n",
       "\n",
       "    .dataframe thead th {\n",
       "        text-align: right;\n",
       "    }\n",
       "</style>\n",
       "<table border=\"1\" class=\"dataframe\">\n",
       "  <thead>\n",
       "    <tr style=\"text-align: right;\">\n",
       "      <th></th>\n",
       "      <th>text</th>\n",
       "      <th>label</th>\n",
       "    </tr>\n",
       "  </thead>\n",
       "  <tbody>\n",
       "    <tr>\n",
       "      <th>0</th>\n",
       "      <td>One of the other reviewers has mentioned that ...</td>\n",
       "      <td>1</td>\n",
       "    </tr>\n",
       "    <tr>\n",
       "      <th>1</th>\n",
       "      <td>A wonderful little production. &lt;br /&gt;&lt;br /&gt;The...</td>\n",
       "      <td>1</td>\n",
       "    </tr>\n",
       "    <tr>\n",
       "      <th>2</th>\n",
       "      <td>I thought this was a wonderful way to spend ti...</td>\n",
       "      <td>1</td>\n",
       "    </tr>\n",
       "    <tr>\n",
       "      <th>3</th>\n",
       "      <td>Basically there's a family where a little boy ...</td>\n",
       "      <td>0</td>\n",
       "    </tr>\n",
       "    <tr>\n",
       "      <th>4</th>\n",
       "      <td>Petter Mattei's \"Love in the Time of Money\" is...</td>\n",
       "      <td>1</td>\n",
       "    </tr>\n",
       "    <tr>\n",
       "      <th>...</th>\n",
       "      <td>...</td>\n",
       "      <td>...</td>\n",
       "    </tr>\n",
       "    <tr>\n",
       "      <th>49995</th>\n",
       "      <td>I thought this movie did a down right good job...</td>\n",
       "      <td>1</td>\n",
       "    </tr>\n",
       "    <tr>\n",
       "      <th>49996</th>\n",
       "      <td>Bad plot, bad dialogue, bad acting, idiotic di...</td>\n",
       "      <td>0</td>\n",
       "    </tr>\n",
       "    <tr>\n",
       "      <th>49997</th>\n",
       "      <td>I am a Catholic taught in parochial elementary...</td>\n",
       "      <td>0</td>\n",
       "    </tr>\n",
       "    <tr>\n",
       "      <th>49998</th>\n",
       "      <td>I'm going to have to disagree with the previou...</td>\n",
       "      <td>0</td>\n",
       "    </tr>\n",
       "    <tr>\n",
       "      <th>49999</th>\n",
       "      <td>No one expects the Star Trek movies to be high...</td>\n",
       "      <td>0</td>\n",
       "    </tr>\n",
       "  </tbody>\n",
       "</table>\n",
       "<p>50000 rows × 2 columns</p>\n",
       "</div>"
      ],
      "text/plain": [
       "                                                    text  label\n",
       "0      One of the other reviewers has mentioned that ...      1\n",
       "1      A wonderful little production. <br /><br />The...      1\n",
       "2      I thought this was a wonderful way to spend ti...      1\n",
       "3      Basically there's a family where a little boy ...      0\n",
       "4      Petter Mattei's \"Love in the Time of Money\" is...      1\n",
       "...                                                  ...    ...\n",
       "49995  I thought this movie did a down right good job...      1\n",
       "49996  Bad plot, bad dialogue, bad acting, idiotic di...      0\n",
       "49997  I am a Catholic taught in parochial elementary...      0\n",
       "49998  I'm going to have to disagree with the previou...      0\n",
       "49999  No one expects the Star Trek movies to be high...      0\n",
       "\n",
       "[50000 rows x 2 columns]"
      ]
     },
     "execution_count": 4,
     "metadata": {},
     "output_type": "execute_result"
    }
   ],
   "source": [
    "df['sentiment'] = df['sentiment'].map({'negative': 0,'positive': 1})  # Label prep\n",
    "df = df.rename(columns={'review':'text', 'sentiment': 'label'})  \n",
    "df"
   ]
  },
  {
   "cell_type": "code",
   "execution_count": 5,
   "metadata": {},
   "outputs": [
    {
     "data": {
      "text/plain": [
       "text     string[python]\n",
       "label              int8\n",
       "dtype: object"
      ]
     },
     "execution_count": 5,
     "metadata": {},
     "output_type": "execute_result"
    }
   ],
   "source": [
    "df = df.astype({'text': 'string', 'label': 'int8'})\n",
    "df.dtypes"
   ]
  },
  {
   "cell_type": "markdown",
   "metadata": {},
   "source": [
    "#### EDA"
   ]
  },
  {
   "cell_type": "code",
   "execution_count": 7,
   "metadata": {},
   "outputs": [],
   "source": [
    "plt.style.use('seaborn-v0_8')\n",
    "%matplotlib inline "
   ]
  },
  {
   "cell_type": "code",
   "execution_count": 119,
   "metadata": {},
   "outputs": [
    {
     "data": {
      "image/png": "[encoded data removed]",
      "text/plain": [
       "<Figure size 800x550 with 1 Axes>"
      ]
     },
     "metadata": {},
     "output_type": "display_data"
    }
   ],
   "source": [
    "\n",
    "\n",
    "pie_data = df['label'].value_counts()\n",
    "labels, values = pie_data.index, pie_data.values\n",
    "\n",
    "fig, ax = plt.subplots()\n",
    "ax.set(title='Distribution of class labels')\n",
    "ax.pie(values, labels=['Positive', 'Negative'], autopct='%1.1f%%');"
   ]
  },
  {
   "cell_type": "code",
   "execution_count": 130,
   "metadata": {},
   "outputs": [
    {
     "data": {
      "image/png": "[encoded data removed]",
      "text/plain": [
       "<Figure size 800x550 with 1 Axes>"
      ]
     },
     "metadata": {},
     "output_type": "display_data"
    }
   ],
   "source": [
    "\n",
    "\n",
    "text_lens = [len(df['text'][i].split()) for i in range(len(df))]\n",
    "\n",
    "fig, ax = plt.subplots()\n",
    "ax.set(xlabel='Length', ylabel='Count', title='Split text length histogram')\n",
    "ax.hist(text_lens, bins=100, ec='black');"
   ]
  },
  {
   "cell_type": "code",
   "execution_count": 129,
   "metadata": {},
   "outputs": [
    {
     "data": {
      "image/png": "[encoded data removed]",
      "text/plain": [
       "<Figure size 800x550 with 1 Axes>"
      ]
     },
     "metadata": {},
     "output_type": "display_data"
    }
   ],
   "source": [
    "\n",
    "\n",
    "text_lens = [len(df['text'][i]) for i in range(len(df))]\n",
    "\n",
    "fig, ax = plt.subplots()\n",
    "ax.set(xlabel='Length', ylabel='Count', title='Text length histogram')\n",
    "ax.hist(text_lens, bins=100, ec='black');"
   ]
  },
  {
   "cell_type": "markdown",
   "metadata": {},
   "source": [
    "#### Text preprocessing"
   ]
  },
  {
   "cell_type": "code",
   "execution_count": 6,
   "metadata": {},
   "outputs": [],
   "source": [
    "def symbols_remove(input_text: str) -> str:\n",
    "    \"\"\"Deleting all characters except words.\n",
    "       The function starts with apply for the entire case\"\"\"\n",
    "    \n",
    "    link_process = re.sub(r\"http://\\S+|https://\\S+\", \"\", input_text)  # Links removing\n",
    "\n",
    "    garbage_process = re.sub(r'([^\\s\\w])', '', link_process)  # Garbage removing\n",
    "\n",
    "    word_process = re.sub(r'\\w*\\d+\\w*', ' ', garbage_process)  # ОNLY WORDS\n",
    "\n",
    "    output_text = re.sub('\\s+', ' ', word_process).strip().lower()  # Space removing, register transfer\n",
    "\n",
    "    return re.sub(r'\\n', '', output_text)"
   ]
  },
  {
   "cell_type": "code",
   "execution_count": 7,
   "metadata": {},
   "outputs": [],
   "source": [
    "stemmer = SnowballStemmer('english')              # For stemmer\n",
    "STOP_WORDS_ENGLISH = stopwords.words('english')   # The block of stop-words\n",
    "\n",
    "def text_preprocessing(input_text: str) -> str:\n",
    "   \"\"\"Tokenization, removal of stop words, spelling correction,\n",
    "      Stemming, transfer from the list of tokens to str (for the vectorization stage)\n",
    "      The function starts with apply for the entire corpus\"\"\"\n",
    "   \n",
    "   text_tokens = word_tokenize(input_text)                                               # Tokenization\n",
    "   \n",
    "   text_without_sw = [word for word in text_tokens if word not in STOP_WORDS_ENGLISH]    # Stop-words removing \n",
    "\n",
    "   text_with_stemming = [stemmer.stem(word) for word in text_without_sw]                 # Stemming\n",
    "\n",
    "   output_text = ' '.join(text_with_stemming)\n",
    "   \n",
    "   return output_text"
   ]
  },
  {
   "cell_type": "code",
   "execution_count": 8,
   "metadata": {},
   "outputs": [
    {
     "data": {
      "text/plain": [
       "7"
      ]
     },
     "execution_count": 8,
     "metadata": {},
     "output_type": "execute_result"
    }
   ],
   "source": [
    "df['preprocess_text'] = df['text'].apply(symbols_remove)      # RegEx preprocessing\n",
    "df['preprocess_text'] = df['preprocess_text'].apply(text_preprocessing)  # Tokenization, stop words, spelling, stemming, return to str\n",
    "\n",
    "df_labels = df.pop('label') \n",
    "df.insert(2, 'label', df_labels) \n",
    "gc.collect()"
   ]
  },
  {
   "cell_type": "code",
   "execution_count": 9,
   "metadata": {},
   "outputs": [
    {
     "data": {
      "text/html": [
       "<div>\n",
       "<style scoped>\n",
       "    .dataframe tbody tr th:only-of-type {\n",
       "        vertical-align: middle;\n",
       "    }\n",
       "\n",
       "    .dataframe tbody tr th {\n",
       "        vertical-align: top;\n",
       "    }\n",
       "\n",
       "    .dataframe thead th {\n",
       "        text-align: right;\n",
       "    }\n",
       "</style>\n",
       "<table border=\"1\" class=\"dataframe\">\n",
       "  <thead>\n",
       "    <tr style=\"text-align: right;\">\n",
       "      <th></th>\n",
       "      <th>text</th>\n",
       "      <th>preprocess_text</th>\n",
       "      <th>label</th>\n",
       "    </tr>\n",
       "  </thead>\n",
       "  <tbody>\n",
       "    <tr>\n",
       "      <th>16493</th>\n",
       "      <td>A lot of people in the cinema enjoyed this fil...</td>\n",
       "      <td>lot peopl cinema enjoy film made feel misanthr...</td>\n",
       "      <td>0</td>\n",
       "    </tr>\n",
       "    <tr>\n",
       "      <th>4018</th>\n",
       "      <td>At school I was taught how some shots were cal...</td>\n",
       "      <td>school taught shot call two director constant ...</td>\n",
       "      <td>1</td>\n",
       "    </tr>\n",
       "    <tr>\n",
       "      <th>8768</th>\n",
       "      <td>I wish they would just make a special section ...</td>\n",
       "      <td>wish would make special section video rental s...</td>\n",
       "      <td>0</td>\n",
       "    </tr>\n",
       "    <tr>\n",
       "      <th>44029</th>\n",
       "      <td>A tremendous action movie that I have ever see...</td>\n",
       "      <td>tremend action movi ever seen first express ut...</td>\n",
       "      <td>1</td>\n",
       "    </tr>\n",
       "    <tr>\n",
       "      <th>44354</th>\n",
       "      <td>Bedrooms and Hallways was one of the funniest ...</td>\n",
       "      <td>bedroom hallway one funniest film melbourn fil...</td>\n",
       "      <td>1</td>\n",
       "    </tr>\n",
       "    <tr>\n",
       "      <th>34849</th>\n",
       "      <td>Out of these Pokemon films (which are in order...</td>\n",
       "      <td>pokemon film order best least pokemon first mo...</td>\n",
       "      <td>1</td>\n",
       "    </tr>\n",
       "    <tr>\n",
       "      <th>14230</th>\n",
       "      <td>I saw this movie with some Indian friends on C...</td>\n",
       "      <td>saw movi indian friend christma day quick summ...</td>\n",
       "      <td>0</td>\n",
       "    </tr>\n",
       "    <tr>\n",
       "      <th>15821</th>\n",
       "      <td>I just attended a preview screening of this fi...</td>\n",
       "      <td>attend preview screen film masterpiec document...</td>\n",
       "      <td>0</td>\n",
       "    </tr>\n",
       "    <tr>\n",
       "      <th>4213</th>\n",
       "      <td>Fate puts a pair of priceless items in Ernest'...</td>\n",
       "      <td>fate put pair priceless item ernest hand get k...</td>\n",
       "      <td>1</td>\n",
       "    </tr>\n",
       "    <tr>\n",
       "      <th>6370</th>\n",
       "      <td>The movie was excellent, save for some of the ...</td>\n",
       "      <td>movi excel save scene esposito enjoy brought t...</td>\n",
       "      <td>1</td>\n",
       "    </tr>\n",
       "  </tbody>\n",
       "</table>\n",
       "</div>"
      ],
      "text/plain": [
       "                                                    text  \\\n",
       "16493  A lot of people in the cinema enjoyed this fil...   \n",
       "4018   At school I was taught how some shots were cal...   \n",
       "8768   I wish they would just make a special section ...   \n",
       "44029  A tremendous action movie that I have ever see...   \n",
       "44354  Bedrooms and Hallways was one of the funniest ...   \n",
       "34849  Out of these Pokemon films (which are in order...   \n",
       "14230  I saw this movie with some Indian friends on C...   \n",
       "15821  I just attended a preview screening of this fi...   \n",
       "4213   Fate puts a pair of priceless items in Ernest'...   \n",
       "6370   The movie was excellent, save for some of the ...   \n",
       "\n",
       "                                         preprocess_text  label  \n",
       "16493  lot peopl cinema enjoy film made feel misanthr...      0  \n",
       "4018   school taught shot call two director constant ...      1  \n",
       "8768   wish would make special section video rental s...      0  \n",
       "44029  tremend action movi ever seen first express ut...      1  \n",
       "44354  bedroom hallway one funniest film melbourn fil...      1  \n",
       "34849  pokemon film order best least pokemon first mo...      1  \n",
       "14230  saw movi indian friend christma day quick summ...      0  \n",
       "15821  attend preview screen film masterpiec document...      0  \n",
       "4213   fate put pair priceless item ernest hand get k...      1  \n",
       "6370   movi excel save scene esposito enjoy brought t...      1  "
      ]
     },
     "execution_count": 9,
     "metadata": {},
     "output_type": "execute_result"
    }
   ],
   "source": [
    "df.sample(10)  # Let's look at result"
   ]
  },
  {
   "cell_type": "code",
   "execution_count": 13,
   "metadata": {},
   "outputs": [],
   "source": [
    "# Train & test split\n",
    "RANDOM_STATE = 50\n",
    "X_train, X_test, y_train, y_test = train_test_split(df['preprocess_text'], df['label'],\n",
    "                                                    test_size=0.2,\n",
    "                                                    shuffle=True,\n",
    "                                                    random_state=RANDOM_STATE)"
   ]
  },
  {
   "cell_type": "markdown",
   "metadata": {},
   "source": [
    "#### Model"
   ]
  },
  {
   "cell_type": "code",
   "execution_count": 14,
   "metadata": {},
   "outputs": [],
   "source": [
    "text_pipeline = Pipeline([\n",
    "                          ('vectorizer', TfidfVectorizer()), \n",
    "                          ('lr', LogisticRegression())\n",
    "                         ])"
   ]
  },
  {
   "cell_type": "code",
   "execution_count": 15,
   "metadata": {},
   "outputs": [
    {
     "name": "stdout",
     "output_type": "stream",
     "text": [
      "Fitting 5 folds for each of 8 candidates, totalling 40 fits\n"
     ]
    },
    {
     "data": {
      "text/html": [
       "<style>#sk-container-id-1 {color: black;}#sk-container-id-1 pre{padding: 0;}#sk-container-id-1 div.sk-toggleable {background-color: white;}#sk-container-id-1 label.sk-toggleable__label {cursor: pointer;display: block;width: 100%;margin-bottom: 0;padding: 0.3em;box-sizing: border-box;text-align: center;}#sk-container-id-1 label.sk-toggleable__label-arrow:before {content: \"▸\";float: left;margin-right: 0.25em;color: #696969;}#sk-container-id-1 label.sk-toggleable__label-arrow:hover:before {color: black;}#sk-container-id-1 div.sk-estimator:hover label.sk-toggleable__label-arrow:before {color: black;}#sk-container-id-1 div.sk-toggleable__content {max-height: 0;max-width: 0;overflow: hidden;text-align: left;background-color: #f0f8ff;}#sk-container-id-1 div.sk-toggleable__content pre {margin: 0.2em;color: black;border-radius: 0.25em;background-color: #f0f8ff;}#sk-container-id-1 input.sk-toggleable__control:checked~div.sk-toggleable__content {max-height: 200px;max-width: 100%;overflow: auto;}#sk-container-id-1 input.sk-toggleable__control:checked~label.sk-toggleable__label-arrow:before {content: \"▾\";}#sk-container-id-1 div.sk-estimator input.sk-toggleable__control:checked~label.sk-toggleable__label {background-color: #d4ebff;}#sk-container-id-1 div.sk-label input.sk-toggleable__control:checked~label.sk-toggleable__label {background-color: #d4ebff;}#sk-container-id-1 input.sk-hidden--visually {border: 0;clip: rect(1px 1px 1px 1px);clip: rect(1px, 1px, 1px, 1px);height: 1px;margin: -1px;overflow: hidden;padding: 0;position: absolute;width: 1px;}#sk-container-id-1 div.sk-estimator {font-family: monospace;background-color: #f0f8ff;border: 1px dotted black;border-radius: 0.25em;box-sizing: border-box;margin-bottom: 0.5em;}#sk-container-id-1 div.sk-estimator:hover {background-color: #d4ebff;}#sk-container-id-1 div.sk-parallel-item::after {content: \"\";width: 100%;border-bottom: 1px solid gray;flex-grow: 1;}#sk-container-id-1 div.sk-label:hover label.sk-toggleable__label {background-color: #d4ebff;}#sk-container-id-1 div.sk-serial::before {content: \"\";position: absolute;border-left: 1px solid gray;box-sizing: border-box;top: 0;bottom: 0;left: 50%;z-index: 0;}#sk-container-id-1 div.sk-serial {display: flex;flex-direction: column;align-items: center;background-color: white;padding-right: 0.2em;padding-left: 0.2em;position: relative;}#sk-container-id-1 div.sk-item {position: relative;z-index: 1;}#sk-container-id-1 div.sk-parallel {display: flex;align-items: stretch;justify-content: center;background-color: white;position: relative;}#sk-container-id-1 div.sk-item::before, #sk-container-id-1 div.sk-parallel-item::before {content: \"\";position: absolute;border-left: 1px solid gray;box-sizing: border-box;top: 0;bottom: 0;left: 50%;z-index: -1;}#sk-container-id-1 div.sk-parallel-item {display: flex;flex-direction: column;z-index: 1;position: relative;background-color: white;}#sk-container-id-1 div.sk-parallel-item:first-child::after {align-self: flex-end;width: 50%;}#sk-container-id-1 div.sk-parallel-item:last-child::after {align-self: flex-start;width: 50%;}#sk-container-id-1 div.sk-parallel-item:only-child::after {width: 0;}#sk-container-id-1 div.sk-dashed-wrapped {border: 1px dashed gray;margin: 0 0.4em 0.5em 0.4em;box-sizing: border-box;padding-bottom: 0.4em;background-color: white;}#sk-container-id-1 div.sk-label label {font-family: monospace;font-weight: bold;display: inline-block;line-height: 1.2em;}#sk-container-id-1 div.sk-label-container {text-align: center;}#sk-container-id-1 div.sk-container {/* jupyter's `normalize.less` sets `[hidden] { display: none; }` but bootstrap.min.css set `[hidden] { display: none !important; }` so we also need the `!important` here to be able to override the default hidden behavior on the sphinx rendered scikit-learn.org. See: https://github.com/scikit-learn/scikit-learn/issues/21755 */display: inline-block !important;position: relative;}#sk-container-id-1 div.sk-text-repr-fallback {display: none;}</style><div id=\"sk-container-id-1\" class=\"sk-top-container\"><div class=\"sk-text-repr-fallback\"><pre>GridSearchCV(cv=KFold(n_splits=5, random_state=50, shuffle=True),\n",
       "             estimator=Pipeline(steps=[(&#x27;vectorizer&#x27;, TfidfVectorizer()),\n",
       "                                       (&#x27;lr&#x27;, LogisticRegression())]),\n",
       "             param_grid={&#x27;lr__C&#x27;: [5, 15, 50, 100],\n",
       "                         &#x27;vectorizer__ngram_range&#x27;: [(1, 1), (1, 2)]},\n",
       "             scoring=&#x27;f1&#x27;, verbose=1)</pre><b>In a Jupyter environment, please rerun this cell to show the HTML representation or trust the notebook. <br />On GitHub, the HTML representation is unable to render, please try loading this page with nbviewer.org.</b></div><div class=\"sk-container\" hidden><div class=\"sk-item sk-dashed-wrapped\"><div class=\"sk-label-container\"><div class=\"sk-label sk-toggleable\"><input class=\"sk-toggleable__control sk-hidden--visually\" id=\"sk-estimator-id-1\" type=\"checkbox\" ><label for=\"sk-estimator-id-1\" class=\"sk-toggleable__label sk-toggleable__label-arrow\">GridSearchCV</label><div class=\"sk-toggleable__content\"><pre>GridSearchCV(cv=KFold(n_splits=5, random_state=50, shuffle=True),\n",
       "             estimator=Pipeline(steps=[(&#x27;vectorizer&#x27;, TfidfVectorizer()),\n",
       "                                       (&#x27;lr&#x27;, LogisticRegression())]),\n",
       "             param_grid={&#x27;lr__C&#x27;: [5, 15, 50, 100],\n",
       "                         &#x27;vectorizer__ngram_range&#x27;: [(1, 1), (1, 2)]},\n",
       "             scoring=&#x27;f1&#x27;, verbose=1)</pre></div></div></div><div class=\"sk-parallel\"><div class=\"sk-parallel-item\"><div class=\"sk-item\"><div class=\"sk-label-container\"><div class=\"sk-label sk-toggleable\"><input class=\"sk-toggleable__control sk-hidden--visually\" id=\"sk-estimator-id-2\" type=\"checkbox\" ><label for=\"sk-estimator-id-2\" class=\"sk-toggleable__label sk-toggleable__label-arrow\">estimator: Pipeline</label><div class=\"sk-toggleable__content\"><pre>Pipeline(steps=[(&#x27;vectorizer&#x27;, TfidfVectorizer()),\n",
       "                (&#x27;lr&#x27;, LogisticRegression())])</pre></div></div></div><div class=\"sk-serial\"><div class=\"sk-item\"><div class=\"sk-serial\"><div class=\"sk-item\"><div class=\"sk-estimator sk-toggleable\"><input class=\"sk-toggleable__control sk-hidden--visually\" id=\"sk-estimator-id-3\" type=\"checkbox\" ><label for=\"sk-estimator-id-3\" class=\"sk-toggleable__label sk-toggleable__label-arrow\">TfidfVectorizer</label><div class=\"sk-toggleable__content\"><pre>TfidfVectorizer()</pre></div></div></div><div class=\"sk-item\"><div class=\"sk-estimator sk-toggleable\"><input class=\"sk-toggleable__control sk-hidden--visually\" id=\"sk-estimator-id-4\" type=\"checkbox\" ><label for=\"sk-estimator-id-4\" class=\"sk-toggleable__label sk-toggleable__label-arrow\">LogisticRegression</label><div class=\"sk-toggleable__content\"><pre>LogisticRegression()</pre></div></div></div></div></div></div></div></div></div></div></div></div>"
      ],
      "text/plain": [
       "GridSearchCV(cv=KFold(n_splits=5, random_state=50, shuffle=True),\n",
       "             estimator=Pipeline(steps=[('vectorizer', TfidfVectorizer()),\n",
       "                                       ('lr', LogisticRegression())]),\n",
       "             param_grid={'lr__C': [5, 15, 50, 100],\n",
       "                         'vectorizer__ngram_range': [(1, 1), (1, 2)]},\n",
       "             scoring='f1', verbose=1)"
      ]
     },
     "execution_count": 15,
     "metadata": {},
     "output_type": "execute_result"
    }
   ],
   "source": [
    "# Grid parametrs\n",
    "parametrs = {\n",
    "              'vectorizer__ngram_range': [(1, 1), (1, 2)],\n",
    "              'lr__C': [5, 15, 50, 100],\n",
    "            }\n",
    "\n",
    "# CrossValidation into GridSearch\n",
    "kf = KFold(n_splits=5, shuffle=True, random_state=RANDOM_STATE)\n",
    "\n",
    "# Create grid search (+ CrossValidation in GridSearch)\n",
    "grid_search = GridSearchCV(text_pipeline,\n",
    "                           parametrs,\n",
    "                           scoring='f1',\n",
    "                           cv=kf,\n",
    "                           verbose=1)\n",
    "\n",
    "# Start\n",
    "grid_search.fit(X_train, y_train)"
   ]
  },
  {
   "cell_type": "code",
   "execution_count": 16,
   "metadata": {},
   "outputs": [
    {
     "data": {
      "text/html": [
       "<style type=\"text/css\">\n",
       "</style>\n",
       "<table id=\"T_f396a\">\n",
       "  <caption>Grid Search statistic data</caption>\n",
       "  <thead>\n",
       "    <tr>\n",
       "      <th class=\"blank level0\" >&nbsp;</th>\n",
       "      <th id=\"T_f396a_level0_col0\" class=\"col_heading level0 col0\" >mean</th>\n",
       "      <th id=\"T_f396a_level0_col1\" class=\"col_heading level0 col1\" >std</th>\n",
       "      <th id=\"T_f396a_level0_col2\" class=\"col_heading level0 col2\" >params</th>\n",
       "    </tr>\n",
       "  </thead>\n",
       "  <tbody>\n",
       "    <tr>\n",
       "      <th id=\"T_f396a_level0_row0\" class=\"row_heading level0 row0\" >0</th>\n",
       "      <td id=\"T_f396a_row0_col0\" class=\"data row0 col0\" >0.894181</td>\n",
       "      <td id=\"T_f396a_row0_col1\" class=\"data row0 col1\" >0.003091</td>\n",
       "      <td id=\"T_f396a_row0_col2\" class=\"data row0 col2\" >{'lr__C': 5, 'vectorizer__ngram_range': (1, 1)}</td>\n",
       "    </tr>\n",
       "    <tr>\n",
       "      <th id=\"T_f396a_level0_row1\" class=\"row_heading level0 row1\" >1</th>\n",
       "      <td id=\"T_f396a_row1_col0\" class=\"data row1 col0\" >0.899497</td>\n",
       "      <td id=\"T_f396a_row1_col1\" class=\"data row1 col1\" >0.003493</td>\n",
       "      <td id=\"T_f396a_row1_col2\" class=\"data row1 col2\" >{'lr__C': 5, 'vectorizer__ngram_range': (1, 2)}</td>\n",
       "    </tr>\n",
       "    <tr>\n",
       "      <th id=\"T_f396a_level0_row2\" class=\"row_heading level0 row2\" >2</th>\n",
       "      <td id=\"T_f396a_row2_col0\" class=\"data row2 col0\" >0.890553</td>\n",
       "      <td id=\"T_f396a_row2_col1\" class=\"data row2 col1\" >0.001914</td>\n",
       "      <td id=\"T_f396a_row2_col2\" class=\"data row2 col2\" >{'lr__C': 15, 'vectorizer__ngram_range': (1, 1)}</td>\n",
       "    </tr>\n",
       "    <tr>\n",
       "      <th id=\"T_f396a_level0_row3\" class=\"row_heading level0 row3\" >3</th>\n",
       "      <td id=\"T_f396a_row3_col0\" class=\"data row3 col0\" >0.902319</td>\n",
       "      <td id=\"T_f396a_row3_col1\" class=\"data row3 col1\" >0.002840</td>\n",
       "      <td id=\"T_f396a_row3_col2\" class=\"data row3 col2\" >{'lr__C': 15, 'vectorizer__ngram_range': (1, 2)}</td>\n",
       "    </tr>\n",
       "    <tr>\n",
       "      <th id=\"T_f396a_level0_row4\" class=\"row_heading level0 row4\" >4</th>\n",
       "      <td id=\"T_f396a_row4_col0\" class=\"data row4 col0\" >0.885599</td>\n",
       "      <td id=\"T_f396a_row4_col1\" class=\"data row4 col1\" >0.002123</td>\n",
       "      <td id=\"T_f396a_row4_col2\" class=\"data row4 col2\" >{'lr__C': 50, 'vectorizer__ngram_range': (1, 1)}</td>\n",
       "    </tr>\n",
       "    <tr>\n",
       "      <th id=\"T_f396a_level0_row5\" class=\"row_heading level0 row5\" >5</th>\n",
       "      <td id=\"T_f396a_row5_col0\" class=\"data row5 col0\" >0.903825</td>\n",
       "      <td id=\"T_f396a_row5_col1\" class=\"data row5 col1\" >0.002973</td>\n",
       "      <td id=\"T_f396a_row5_col2\" class=\"data row5 col2\" >{'lr__C': 50, 'vectorizer__ngram_range': (1, 2)}</td>\n",
       "    </tr>\n",
       "    <tr>\n",
       "      <th id=\"T_f396a_level0_row6\" class=\"row_heading level0 row6\" >6</th>\n",
       "      <td id=\"T_f396a_row6_col0\" class=\"data row6 col0\" >0.883967</td>\n",
       "      <td id=\"T_f396a_row6_col1\" class=\"data row6 col1\" >0.001997</td>\n",
       "      <td id=\"T_f396a_row6_col2\" class=\"data row6 col2\" >{'lr__C': 100, 'vectorizer__ngram_range': (1, 1)}</td>\n",
       "    </tr>\n",
       "    <tr>\n",
       "      <th id=\"T_f396a_level0_row7\" class=\"row_heading level0 row7\" >7</th>\n",
       "      <td id=\"T_f396a_row7_col0\" class=\"data row7 col0\" >0.903953</td>\n",
       "      <td id=\"T_f396a_row7_col1\" class=\"data row7 col1\" >0.002952</td>\n",
       "      <td id=\"T_f396a_row7_col2\" class=\"data row7 col2\" >{'lr__C': 100, 'vectorizer__ngram_range': (1, 2)}</td>\n",
       "    </tr>\n",
       "  </tbody>\n",
       "</table>\n"
      ],
      "text/plain": [
       "<pandas.io.formats.style.Styler at 0x1186f3da410>"
      ]
     },
     "execution_count": 16,
     "metadata": {},
     "output_type": "execute_result"
    }
   ],
   "source": [
    "mean = grid_search.cv_results_['mean_test_score']  \n",
    "std = grid_search.cv_results_['std_test_score']  \n",
    "param = grid_search.cv_results_['params']  \n",
    "\n",
    "grid_search_df = pd.DataFrame({'mean': mean, 'std': std, 'params': param})\n",
    "grid_search_df.style.set_caption(\"Grid Search statistic data\")"
   ]
  },
  {
   "cell_type": "code",
   "execution_count": 17,
   "metadata": {},
   "outputs": [
    {
     "name": "stdout",
     "output_type": "stream",
     "text": [
      "GRID SEARCH BEST SCORE: 0.9039526367646047\n",
      "GRID SEARCH BEST PARAMS: {'lr__C': 100, 'vectorizer__ngram_range': (1, 2)}\n"
     ]
    }
   ],
   "source": [
    "print(f'GRID SEARCH BEST SCORE: {grid_search.best_score_}')\n",
    "print(f'GRID SEARCH BEST PARAMS: {grid_search.best_params_}')"
   ]
  },
  {
   "cell_type": "code",
   "execution_count": 18,
   "metadata": {},
   "outputs": [
    {
     "data": {
      "text/html": [
       "<style>#sk-container-id-2 {color: black;}#sk-container-id-2 pre{padding: 0;}#sk-container-id-2 div.sk-toggleable {background-color: white;}#sk-container-id-2 label.sk-toggleable__label {cursor: pointer;display: block;width: 100%;margin-bottom: 0;padding: 0.3em;box-sizing: border-box;text-align: center;}#sk-container-id-2 label.sk-toggleable__label-arrow:before {content: \"▸\";float: left;margin-right: 0.25em;color: #696969;}#sk-container-id-2 label.sk-toggleable__label-arrow:hover:before {color: black;}#sk-container-id-2 div.sk-estimator:hover label.sk-toggleable__label-arrow:before {color: black;}#sk-container-id-2 div.sk-toggleable__content {max-height: 0;max-width: 0;overflow: hidden;text-align: left;background-color: #f0f8ff;}#sk-container-id-2 div.sk-toggleable__content pre {margin: 0.2em;color: black;border-radius: 0.25em;background-color: #f0f8ff;}#sk-container-id-2 input.sk-toggleable__control:checked~div.sk-toggleable__content {max-height: 200px;max-width: 100%;overflow: auto;}#sk-container-id-2 input.sk-toggleable__control:checked~label.sk-toggleable__label-arrow:before {content: \"▾\";}#sk-container-id-2 div.sk-estimator input.sk-toggleable__control:checked~label.sk-toggleable__label {background-color: #d4ebff;}#sk-container-id-2 div.sk-label input.sk-toggleable__control:checked~label.sk-toggleable__label {background-color: #d4ebff;}#sk-container-id-2 input.sk-hidden--visually {border: 0;clip: rect(1px 1px 1px 1px);clip: rect(1px, 1px, 1px, 1px);height: 1px;margin: -1px;overflow: hidden;padding: 0;position: absolute;width: 1px;}#sk-container-id-2 div.sk-estimator {font-family: monospace;background-color: #f0f8ff;border: 1px dotted black;border-radius: 0.25em;box-sizing: border-box;margin-bottom: 0.5em;}#sk-container-id-2 div.sk-estimator:hover {background-color: #d4ebff;}#sk-container-id-2 div.sk-parallel-item::after {content: \"\";width: 100%;border-bottom: 1px solid gray;flex-grow: 1;}#sk-container-id-2 div.sk-label:hover label.sk-toggleable__label {background-color: #d4ebff;}#sk-container-id-2 div.sk-serial::before {content: \"\";position: absolute;border-left: 1px solid gray;box-sizing: border-box;top: 0;bottom: 0;left: 50%;z-index: 0;}#sk-container-id-2 div.sk-serial {display: flex;flex-direction: column;align-items: center;background-color: white;padding-right: 0.2em;padding-left: 0.2em;position: relative;}#sk-container-id-2 div.sk-item {position: relative;z-index: 1;}#sk-container-id-2 div.sk-parallel {display: flex;align-items: stretch;justify-content: center;background-color: white;position: relative;}#sk-container-id-2 div.sk-item::before, #sk-container-id-2 div.sk-parallel-item::before {content: \"\";position: absolute;border-left: 1px solid gray;box-sizing: border-box;top: 0;bottom: 0;left: 50%;z-index: -1;}#sk-container-id-2 div.sk-parallel-item {display: flex;flex-direction: column;z-index: 1;position: relative;background-color: white;}#sk-container-id-2 div.sk-parallel-item:first-child::after {align-self: flex-end;width: 50%;}#sk-container-id-2 div.sk-parallel-item:last-child::after {align-self: flex-start;width: 50%;}#sk-container-id-2 div.sk-parallel-item:only-child::after {width: 0;}#sk-container-id-2 div.sk-dashed-wrapped {border: 1px dashed gray;margin: 0 0.4em 0.5em 0.4em;box-sizing: border-box;padding-bottom: 0.4em;background-color: white;}#sk-container-id-2 div.sk-label label {font-family: monospace;font-weight: bold;display: inline-block;line-height: 1.2em;}#sk-container-id-2 div.sk-label-container {text-align: center;}#sk-container-id-2 div.sk-container {/* jupyter's `normalize.less` sets `[hidden] { display: none; }` but bootstrap.min.css set `[hidden] { display: none !important; }` so we also need the `!important` here to be able to override the default hidden behavior on the sphinx rendered scikit-learn.org. See: https://github.com/scikit-learn/scikit-learn/issues/21755 */display: inline-block !important;position: relative;}#sk-container-id-2 div.sk-text-repr-fallback {display: none;}</style><div id=\"sk-container-id-2\" class=\"sk-top-container\"><div class=\"sk-text-repr-fallback\"><pre>Pipeline(steps=[(&#x27;vectorizer&#x27;, TfidfVectorizer(ngram_range=(1, 2))),\n",
       "                (&#x27;lr&#x27;, LogisticRegression(C=100))])</pre><b>In a Jupyter environment, please rerun this cell to show the HTML representation or trust the notebook. <br />On GitHub, the HTML representation is unable to render, please try loading this page with nbviewer.org.</b></div><div class=\"sk-container\" hidden><div class=\"sk-item sk-dashed-wrapped\"><div class=\"sk-label-container\"><div class=\"sk-label sk-toggleable\"><input class=\"sk-toggleable__control sk-hidden--visually\" id=\"sk-estimator-id-5\" type=\"checkbox\" ><label for=\"sk-estimator-id-5\" class=\"sk-toggleable__label sk-toggleable__label-arrow\">Pipeline</label><div class=\"sk-toggleable__content\"><pre>Pipeline(steps=[(&#x27;vectorizer&#x27;, TfidfVectorizer(ngram_range=(1, 2))),\n",
       "                (&#x27;lr&#x27;, LogisticRegression(C=100))])</pre></div></div></div><div class=\"sk-serial\"><div class=\"sk-item\"><div class=\"sk-estimator sk-toggleable\"><input class=\"sk-toggleable__control sk-hidden--visually\" id=\"sk-estimator-id-6\" type=\"checkbox\" ><label for=\"sk-estimator-id-6\" class=\"sk-toggleable__label sk-toggleable__label-arrow\">TfidfVectorizer</label><div class=\"sk-toggleable__content\"><pre>TfidfVectorizer(ngram_range=(1, 2))</pre></div></div></div><div class=\"sk-item\"><div class=\"sk-estimator sk-toggleable\"><input class=\"sk-toggleable__control sk-hidden--visually\" id=\"sk-estimator-id-7\" type=\"checkbox\" ><label for=\"sk-estimator-id-7\" class=\"sk-toggleable__label sk-toggleable__label-arrow\">LogisticRegression</label><div class=\"sk-toggleable__content\"><pre>LogisticRegression(C=100)</pre></div></div></div></div></div></div></div>"
      ],
      "text/plain": [
       "Pipeline(steps=[('vectorizer', TfidfVectorizer(ngram_range=(1, 2))),\n",
       "                ('lr', LogisticRegression(C=100))])"
      ]
     },
     "execution_count": 18,
     "metadata": {},
     "output_type": "execute_result"
    }
   ],
   "source": [
    "# Lets look the best Pipeline\n",
    "best_pipeline = grid_search.best_estimator_\n",
    "\n",
    "# Fit again for best pipeline \n",
    "best_pipeline.fit(X_train, y_train)"
   ]
  },
  {
   "cell_type": "markdown",
   "metadata": {},
   "source": [
    "#### Model evaluating"
   ]
  },
  {
   "cell_type": "code",
   "execution_count": 19,
   "metadata": {},
   "outputs": [
    {
     "name": "stdout",
     "output_type": "stream",
     "text": [
      "F1-SCORE ON TRAIN: 1.0\n",
      "F1-SCORE ON TEST: 0.9024947818308319\n"
     ]
    }
   ],
   "source": [
    "print(f\"F1-SCORE ON TRAIN: {f1_score(y_train, best_pipeline.predict(X_train))}\")\n",
    "print(f\"F1-SCORE ON TEST: {f1_score(y_test, best_pipeline.predict(X_test))}\")"
   ]
  },
  {
   "cell_type": "code",
   "execution_count": 20,
   "metadata": {},
   "outputs": [
    {
     "data": {
      "image/png": "[encoded data removed]",
      "text/plain": [
       "<Figure size 640x480 with 2 Axes>"
      ]
     },
     "metadata": {},
     "output_type": "display_data"
    }
   ],
   "source": [
    "cm_display = ConfusionMatrixDisplay(confusion_matrix=confusion_matrix(y_test, best_pipeline.predict(X_test)))\n",
    "cm_display.plot()\n",
    "plt.show()"
   ]
  },
  {
   "cell_type": "code",
   "execution_count": 21,
   "metadata": {},
   "outputs": [
    {
     "data": {
      "image/png": "[encoded data removed]",
      "text/plain": [
       "<Figure size 640x480 with 1 Axes>"
      ]
     },
     "metadata": {},
     "output_type": "display_data"
    }
   ],
   "source": [
    "# Roc-auc score\n",
    "fpr, tpr, thresholds = roc_curve(y_test, best_pipeline.predict(X_test))\n",
    "roc_auc = auc(fpr, tpr)\n",
    "display = RocCurveDisplay(fpr=fpr, tpr=tpr, roc_auc=roc_auc, estimator_name='TfIDf + Logreg')\n",
    "\n",
    "display.plot()\n",
    "plt.show()"
   ]
  },
  {
   "cell_type": "code",
   "execution_count": 58,
   "metadata": {},
   "outputs": [],
   "source": [
    "def regex_text_preprocessing(texts: list[str]) ->list[str]:\n",
    "    regex_prep = [symbols_remove(text) for text in texts]     # RegEx preprocessing\n",
    "    return [text_preprocessing(text) for text in regex_prep]  # Text preprocessing\n",
    "\n",
    "\n",
    "text_prep_transformer = FunctionTransformer(regex_text_preprocessing)"
   ]
  },
  {
   "cell_type": "code",
   "execution_count": 47,
   "metadata": {},
   "outputs": [
    {
     "data": {
      "text/html": [
       "<style>#sk-container-id-11 {color: black;}#sk-container-id-11 pre{padding: 0;}#sk-container-id-11 div.sk-toggleable {background-color: white;}#sk-container-id-11 label.sk-toggleable__label {cursor: pointer;display: block;width: 100%;margin-bottom: 0;padding: 0.3em;box-sizing: border-box;text-align: center;}#sk-container-id-11 label.sk-toggleable__label-arrow:before {content: \"▸\";float: left;margin-right: 0.25em;color: #696969;}#sk-container-id-11 label.sk-toggleable__label-arrow:hover:before {color: black;}#sk-container-id-11 div.sk-estimator:hover label.sk-toggleable__label-arrow:before {color: black;}#sk-container-id-11 div.sk-toggleable__content {max-height: 0;max-width: 0;overflow: hidden;text-align: left;background-color: #f0f8ff;}#sk-container-id-11 div.sk-toggleable__content pre {margin: 0.2em;color: black;border-radius: 0.25em;background-color: #f0f8ff;}#sk-container-id-11 input.sk-toggleable__control:checked~div.sk-toggleable__content {max-height: 200px;max-width: 100%;overflow: auto;}#sk-container-id-11 input.sk-toggleable__control:checked~label.sk-toggleable__label-arrow:before {content: \"▾\";}#sk-container-id-11 div.sk-estimator input.sk-toggleable__control:checked~label.sk-toggleable__label {background-color: #d4ebff;}#sk-container-id-11 div.sk-label input.sk-toggleable__control:checked~label.sk-toggleable__label {background-color: #d4ebff;}#sk-container-id-11 input.sk-hidden--visually {border: 0;clip: rect(1px 1px 1px 1px);clip: rect(1px, 1px, 1px, 1px);height: 1px;margin: -1px;overflow: hidden;padding: 0;position: absolute;width: 1px;}#sk-container-id-11 div.sk-estimator {font-family: monospace;background-color: #f0f8ff;border: 1px dotted black;border-radius: 0.25em;box-sizing: border-box;margin-bottom: 0.5em;}#sk-container-id-11 div.sk-estimator:hover {background-color: #d4ebff;}#sk-container-id-11 div.sk-parallel-item::after {content: \"\";width: 100%;border-bottom: 1px solid gray;flex-grow: 1;}#sk-container-id-11 div.sk-label:hover label.sk-toggleable__label {background-color: #d4ebff;}#sk-container-id-11 div.sk-serial::before {content: \"\";position: absolute;border-left: 1px solid gray;box-sizing: border-box;top: 0;bottom: 0;left: 50%;z-index: 0;}#sk-container-id-11 div.sk-serial {display: flex;flex-direction: column;align-items: center;background-color: white;padding-right: 0.2em;padding-left: 0.2em;position: relative;}#sk-container-id-11 div.sk-item {position: relative;z-index: 1;}#sk-container-id-11 div.sk-parallel {display: flex;align-items: stretch;justify-content: center;background-color: white;position: relative;}#sk-container-id-11 div.sk-item::before, #sk-container-id-11 div.sk-parallel-item::before {content: \"\";position: absolute;border-left: 1px solid gray;box-sizing: border-box;top: 0;bottom: 0;left: 50%;z-index: -1;}#sk-container-id-11 div.sk-parallel-item {display: flex;flex-direction: column;z-index: 1;position: relative;background-color: white;}#sk-container-id-11 div.sk-parallel-item:first-child::after {align-self: flex-end;width: 50%;}#sk-container-id-11 div.sk-parallel-item:last-child::after {align-self: flex-start;width: 50%;}#sk-container-id-11 div.sk-parallel-item:only-child::after {width: 0;}#sk-container-id-11 div.sk-dashed-wrapped {border: 1px dashed gray;margin: 0 0.4em 0.5em 0.4em;box-sizing: border-box;padding-bottom: 0.4em;background-color: white;}#sk-container-id-11 div.sk-label label {font-family: monospace;font-weight: bold;display: inline-block;line-height: 1.2em;}#sk-container-id-11 div.sk-label-container {text-align: center;}#sk-container-id-11 div.sk-container {/* jupyter's `normalize.less` sets `[hidden] { display: none; }` but bootstrap.min.css set `[hidden] { display: none !important; }` so we also need the `!important` here to be able to override the default hidden behavior on the sphinx rendered scikit-learn.org. See: https://github.com/scikit-learn/scikit-learn/issues/21755 */display: inline-block !important;position: relative;}#sk-container-id-11 div.sk-text-repr-fallback {display: none;}</style><div id=\"sk-container-id-11\" class=\"sk-top-container\"><div class=\"sk-text-repr-fallback\"><pre>Pipeline(steps=[[&#x27;preprocessor&#x27;,\n",
       "                 FunctionTransformer(func=&lt;function regex_text_preprocessing at 0x0000011802BFDB20&gt;)],\n",
       "                (&#x27;vectorizer&#x27;, TfidfVectorizer(ngram_range=(1, 2))),\n",
       "                (&#x27;lr&#x27;, LogisticRegression(C=100))])</pre><b>In a Jupyter environment, please rerun this cell to show the HTML representation or trust the notebook. <br />On GitHub, the HTML representation is unable to render, please try loading this page with nbviewer.org.</b></div><div class=\"sk-container\" hidden><div class=\"sk-item sk-dashed-wrapped\"><div class=\"sk-label-container\"><div class=\"sk-label sk-toggleable\"><input class=\"sk-toggleable__control sk-hidden--visually\" id=\"sk-estimator-id-23\" type=\"checkbox\" ><label for=\"sk-estimator-id-23\" class=\"sk-toggleable__label sk-toggleable__label-arrow\">Pipeline</label><div class=\"sk-toggleable__content\"><pre>Pipeline(steps=[[&#x27;preprocessor&#x27;,\n",
       "                 FunctionTransformer(func=&lt;function regex_text_preprocessing at 0x0000011802BFDB20&gt;)],\n",
       "                (&#x27;vectorizer&#x27;, TfidfVectorizer(ngram_range=(1, 2))),\n",
       "                (&#x27;lr&#x27;, LogisticRegression(C=100))])</pre></div></div></div><div class=\"sk-serial\"><div class=\"sk-item\"><div class=\"sk-estimator sk-toggleable\"><input class=\"sk-toggleable__control sk-hidden--visually\" id=\"sk-estimator-id-24\" type=\"checkbox\" ><label for=\"sk-estimator-id-24\" class=\"sk-toggleable__label sk-toggleable__label-arrow\">FunctionTransformer</label><div class=\"sk-toggleable__content\"><pre>FunctionTransformer(func=&lt;function regex_text_preprocessing at 0x0000011802BFDB20&gt;)</pre></div></div></div><div class=\"sk-item\"><div class=\"sk-estimator sk-toggleable\"><input class=\"sk-toggleable__control sk-hidden--visually\" id=\"sk-estimator-id-25\" type=\"checkbox\" ><label for=\"sk-estimator-id-25\" class=\"sk-toggleable__label sk-toggleable__label-arrow\">TfidfVectorizer</label><div class=\"sk-toggleable__content\"><pre>TfidfVectorizer(ngram_range=(1, 2))</pre></div></div></div><div class=\"sk-item\"><div class=\"sk-estimator sk-toggleable\"><input class=\"sk-toggleable__control sk-hidden--visually\" id=\"sk-estimator-id-26\" type=\"checkbox\" ><label for=\"sk-estimator-id-26\" class=\"sk-toggleable__label sk-toggleable__label-arrow\">LogisticRegression</label><div class=\"sk-toggleable__content\"><pre>LogisticRegression(C=100)</pre></div></div></div></div></div></div></div>"
      ],
      "text/plain": [
       "Pipeline(steps=[['preprocessor',\n",
       "                 FunctionTransformer(func=<function regex_text_preprocessing at 0x0000011802BFDB20>)],\n",
       "                ('vectorizer', TfidfVectorizer(ngram_range=(1, 2))),\n",
       "                ('lr', LogisticRegression(C=100))])"
      ]
     },
     "execution_count": 47,
     "metadata": {},
     "output_type": "execute_result"
    }
   ],
   "source": [
    "# Let's look at final pipeline\n",
    "best_pipeline"
   ]
  },
  {
   "cell_type": "code",
   "execution_count": 140,
   "metadata": {},
   "outputs": [
    {
     "data": {
      "text/plain": [
       "array([0, 0, 1, 1, 1, 0, 0], dtype=int8)"
      ]
     },
     "execution_count": 140,
     "metadata": {},
     "output_type": "execute_result"
    }
   ],
   "source": [
    "# Evaluation on some texts\n",
    "best_pipeline.predict(['Very awfull movie!',                                         # OK \n",
    "                       'This movie is so bad!',                                      # OK  \n",
    "                       'I am very glad that i could see this movie! Excellent!',     # OK\n",
    "                       'Very cool',                                                  # OK\n",
    "                       'Nice movie, thank you sir',                                  # OK\n",
    "                       'Not bad! I will review this movie',                          # Bad, because LogReg can't process the sequence\n",
    "                       'I cant watch this movie'])                                   # OK                     "
   ]
  },
  {
   "cell_type": "code",
   "execution_count": 59,
   "metadata": {},
   "outputs": [],
   "source": [
    "# Model saving\n",
    "\n",
    "MODEL_SAVE_PATH = r\"text_classification_models\\log_reg_pipeline\"\n",
    "\n",
    "with open(MODEL_SAVE_PATH, 'wb') as file:\n",
    "    pickle.dump(best_pipeline, file)"
   ]
  },
  {
   "cell_type": "markdown",
   "metadata": {},
   "source": [
    "# Text classification using RNN"
   ]
  },
  {
   "cell_type": "code",
   "execution_count": 10,
   "metadata": {},
   "outputs": [],
   "source": [
    "from tensorflow import keras\n",
    "\n",
    "from keras.optimizers import Adam\n",
    "from keras.losses import binary_crossentropy\n",
    "from keras import backend as K\n",
    "\n",
    "from keras.models import Sequential\n",
    "from keras.layers import LSTM, GRU, LayerNormalization, BatchNormalization, Dropout, Embedding, Dense, Bidirectional\n",
    "\n",
    "from  keras.preprocessing.text import Tokenizer\n",
    "from keras.preprocessing.sequence import pad_sequences \n",
    "from keras.activations import elu, relu"
   ]
  },
  {
   "cell_type": "code",
   "execution_count": 11,
   "metadata": {},
   "outputs": [
    {
     "data": {
      "text/html": [
       "<div>\n",
       "<style scoped>\n",
       "    .dataframe tbody tr th:only-of-type {\n",
       "        vertical-align: middle;\n",
       "    }\n",
       "\n",
       "    .dataframe tbody tr th {\n",
       "        vertical-align: top;\n",
       "    }\n",
       "\n",
       "    .dataframe thead th {\n",
       "        text-align: right;\n",
       "    }\n",
       "</style>\n",
       "<table border=\"1\" class=\"dataframe\">\n",
       "  <thead>\n",
       "    <tr style=\"text-align: right;\">\n",
       "      <th></th>\n",
       "      <th>text</th>\n",
       "      <th>preprocess_text</th>\n",
       "      <th>label</th>\n",
       "    </tr>\n",
       "  </thead>\n",
       "  <tbody>\n",
       "    <tr>\n",
       "      <th>0</th>\n",
       "      <td>One of the other reviewers has mentioned that ...</td>\n",
       "      <td>one review mention watch oz episod youll hook ...</td>\n",
       "      <td>1</td>\n",
       "    </tr>\n",
       "    <tr>\n",
       "      <th>1</th>\n",
       "      <td>A wonderful little production. &lt;br /&gt;&lt;br /&gt;The...</td>\n",
       "      <td>wonder littl product br br film techniqu unass...</td>\n",
       "      <td>1</td>\n",
       "    </tr>\n",
       "    <tr>\n",
       "      <th>2</th>\n",
       "      <td>I thought this was a wonderful way to spend ti...</td>\n",
       "      <td>thought wonder way spend time hot summer weeke...</td>\n",
       "      <td>1</td>\n",
       "    </tr>\n",
       "    <tr>\n",
       "      <th>3</th>\n",
       "      <td>Basically there's a family where a little boy ...</td>\n",
       "      <td>basic there famili littl boy jake think there ...</td>\n",
       "      <td>0</td>\n",
       "    </tr>\n",
       "    <tr>\n",
       "      <th>4</th>\n",
       "      <td>Petter Mattei's \"Love in the Time of Money\" is...</td>\n",
       "      <td>petter mattei love time money visual stun film...</td>\n",
       "      <td>1</td>\n",
       "    </tr>\n",
       "    <tr>\n",
       "      <th>...</th>\n",
       "      <td>...</td>\n",
       "      <td>...</td>\n",
       "      <td>...</td>\n",
       "    </tr>\n",
       "    <tr>\n",
       "      <th>49995</th>\n",
       "      <td>I thought this movie did a down right good job...</td>\n",
       "      <td>thought movi right good job wasnt creativ orig...</td>\n",
       "      <td>1</td>\n",
       "    </tr>\n",
       "    <tr>\n",
       "      <th>49996</th>\n",
       "      <td>Bad plot, bad dialogue, bad acting, idiotic di...</td>\n",
       "      <td>bad plot bad dialogu bad act idiot direct anno...</td>\n",
       "      <td>0</td>\n",
       "    </tr>\n",
       "    <tr>\n",
       "      <th>49997</th>\n",
       "      <td>I am a Catholic taught in parochial elementary...</td>\n",
       "      <td>cathol taught parochi elementari school nun ta...</td>\n",
       "      <td>0</td>\n",
       "    </tr>\n",
       "    <tr>\n",
       "      <th>49998</th>\n",
       "      <td>I'm going to have to disagree with the previou...</td>\n",
       "      <td>im go disagre previous comment side maltin one...</td>\n",
       "      <td>0</td>\n",
       "    </tr>\n",
       "    <tr>\n",
       "      <th>49999</th>\n",
       "      <td>No one expects the Star Trek movies to be high...</td>\n",
       "      <td>one expect star trek movi high art fan expect ...</td>\n",
       "      <td>0</td>\n",
       "    </tr>\n",
       "  </tbody>\n",
       "</table>\n",
       "<p>50000 rows × 3 columns</p>\n",
       "</div>"
      ],
      "text/plain": [
       "                                                    text  \\\n",
       "0      One of the other reviewers has mentioned that ...   \n",
       "1      A wonderful little production. <br /><br />The...   \n",
       "2      I thought this was a wonderful way to spend ti...   \n",
       "3      Basically there's a family where a little boy ...   \n",
       "4      Petter Mattei's \"Love in the Time of Money\" is...   \n",
       "...                                                  ...   \n",
       "49995  I thought this movie did a down right good job...   \n",
       "49996  Bad plot, bad dialogue, bad acting, idiotic di...   \n",
       "49997  I am a Catholic taught in parochial elementary...   \n",
       "49998  I'm going to have to disagree with the previou...   \n",
       "49999  No one expects the Star Trek movies to be high...   \n",
       "\n",
       "                                         preprocess_text  label  \n",
       "0      one review mention watch oz episod youll hook ...      1  \n",
       "1      wonder littl product br br film techniqu unass...      1  \n",
       "2      thought wonder way spend time hot summer weeke...      1  \n",
       "3      basic there famili littl boy jake think there ...      0  \n",
       "4      petter mattei love time money visual stun film...      1  \n",
       "...                                                  ...    ...  \n",
       "49995  thought movi right good job wasnt creativ orig...      1  \n",
       "49996  bad plot bad dialogu bad act idiot direct anno...      0  \n",
       "49997  cathol taught parochi elementari school nun ta...      0  \n",
       "49998  im go disagre previous comment side maltin one...      0  \n",
       "49999  one expect star trek movi high art fan expect ...      0  \n",
       "\n",
       "[50000 rows x 3 columns]"
      ]
     },
     "execution_count": 11,
     "metadata": {},
     "output_type": "execute_result"
    }
   ],
   "source": [
    "df"
   ]
  },
  {
   "cell_type": "code",
   "execution_count": 81,
   "metadata": {},
   "outputs": [],
   "source": [
    "# Hyperparameters \n",
    "max_words = 130000  # max number of words to use in the vocabulary\n",
    "max_len = 300  # max length of each text (in terms of number of words)\n",
    "embedding_dim = 300  # dimension of word embeddings\n",
    "\n",
    "# Tokenize the texts and create a vocabulary\n",
    "tokenizer = Tokenizer(num_words=max_words)\n",
    "\n",
    "X_train, X_test, y_train, y_test = train_test_split(df['preprocess_text'],\n",
    "                                                    df['label'], \n",
    "                                                    shuffle=True,\n",
    "                                                    random_state=50)\n",
    "\n",
    "tokenizer.fit_on_texts(X_train)  # Create vocabulary of words\n",
    "\n",
    "\n",
    "train_sequences = tokenizer.texts_to_sequences(X_train)\n",
    "test_sequences = tokenizer.texts_to_sequences(X_test)\n",
    "\n",
    "# Pad the sequences so they all have the same length (Now, we are working with X_train_seq, y_train |||| X_test_seq, y_test)\n",
    "X_train_seq = pad_sequences(train_sequences, maxlen=max_len)\n",
    "X_test_seq = pad_sequences(test_sequences, maxlen=max_len)"
   ]
  },
  {
   "cell_type": "code",
   "execution_count": 82,
   "metadata": {},
   "outputs": [
    {
     "data": {
      "text/plain": [
       "array([    0,     0,     0,     0,     0,     0,     0,     0,     0,\n",
       "           0,     0,     0,     0,     0,     0,     0,     0,     0,\n",
       "           0,     0,     0,     0,     0,     0,     0,     0,     0,\n",
       "           0,     0,     0,     0,     0,     0,     0,     0,     0,\n",
       "           0,     0,     0,     0,     0,     0,     0,     0,     0,\n",
       "           0,     0,     0,     0,     0,     0,     0,     0,     0,\n",
       "           0,     0,     0,     0,     0,     0,     0,     0,     0,\n",
       "           0,     0,     0,     0,     0,     0,     0,     0,     0,\n",
       "           0,     0,     0,     0,     0,     0,     0,     0,     0,\n",
       "           0,     0,     0,     0,     0,     0,     0,     0,     0,\n",
       "           0,     0,     0,     0,     0,     0,     0,     0,     0,\n",
       "           0,     0,     0,     0,     0,     0,     0,     0,     0,\n",
       "           0,     0,     0,     0,     0,     0,     0,     0,     0,\n",
       "           0,     0,     0,     0,     0,     0,     0,     0,     0,\n",
       "           0,     0,     0,     0,     0,     0,     0,     0,     0,\n",
       "           0,     0,     0,     0,     0,     0,     0,  1399,  1734,\n",
       "        1017,   324,  1250,  1314,    65,  1201,   288,  1554,  9435,\n",
       "          65, 36294,  4600,    42,   651,  7611,  9831,  3070,   947,\n",
       "       48491,  1269,  3133,    99,   145,   217,  3133,  1038,     9,\n",
       "        6248, 22235,    80,  1857,   840,  8647,    12,    22,  5563,\n",
       "       16632,  3038,  1203,  1063,  2345,  1314,    16,  1204,    86,\n",
       "         288,  1757,   204,   583,  2943,   288,  3325,    73,    91,\n",
       "        1314,     1,     1,    44,   671,   582,    10,   464,   722,\n",
       "        1882,   288,    53,    97,   398,  1007,   350,  2896,    65,\n",
       "        2267,  4216,   603,   532,   108,    21,    75,   178,    47,\n",
       "        2954, 12861,   108,   174,   653, 14156,   456,   821,  1221,\n",
       "         398,    41,   872,    34,   620, 14157,   268,   363,   207,\n",
       "        3286, 20688,  2391,   633,  2391,  2000,   410,   530,  3623,\n",
       "           1,   947,  1314,  3470,   723,   644,  3364,     8,    29,\n",
       "        5290,  1236,     3,  2609,   907,    65,    14,  1314, 10044,\n",
       "           1,  4453,  2562,  1293,   212,   610,    85,    31,     3,\n",
       "          12,  5563,    11,  3038,   144,    82,    16,    27,   501,\n",
       "        1314,  6853,   288,    14,    58,    45,   374,  3208,     1,\n",
       "          57,  5563,  3038])"
      ]
     },
     "execution_count": 82,
     "metadata": {},
     "output_type": "execute_result"
    }
   ],
   "source": [
    "# Example of text sequence\n",
    "X_train_seq[0]"
   ]
  },
  {
   "cell_type": "code",
   "execution_count": 96,
   "metadata": {},
   "outputs": [],
   "source": [
    "lstm_model = Sequential()\n",
    "lstm_model.add(Embedding(max_words, embedding_dim, input_length=max_len))\n",
    "\n",
    "lstm_model.add(LSTM(32, return_sequences=True))\n",
    "lstm_model.add(BatchNormalization())\n",
    "\n",
    "lstm_model.add(LSTM(16, return_sequences=True))\n",
    "lstm_model.add(LayerNormalization())\n",
    "\n",
    "lstm_model.add(LSTM(8, return_sequences=False))\n",
    "\n",
    "lstm_model.add(Dense(1, activation='sigmoid'))"
   ]
  },
  {
   "cell_type": "code",
   "execution_count": 97,
   "metadata": {},
   "outputs": [],
   "source": [
    "callbacks = [\n",
    "    keras.callbacks.EarlyStopping(monitor='loss', min_delta=0.01, patience=6, verbose=1),  \n",
    "    keras.callbacks.ReduceLROnPlateau(monitor='loss', factor=0.1, min_delta=0.01, min_lr=1e-10, patience=3, verbose=1, mode='auto')\n",
    "]"
   ]
  },
  {
   "cell_type": "code",
   "execution_count": 98,
   "metadata": {},
   "outputs": [],
   "source": [
    "lstm_model.compile(metrics=['accuracy'],\n",
    "              loss='binary_crossentropy',\n",
    "              optimizer=Adam())"
   ]
  },
  {
   "cell_type": "code",
   "execution_count": 99,
   "metadata": {},
   "outputs": [
    {
     "name": "stdout",
     "output_type": "stream",
     "text": [
      "Epoch 1/7\n",
      "264/264 [==============================] - 169s 621ms/step - loss: 0.3815 - accuracy: 0.8381 - val_loss: 0.2993 - val_accuracy: 0.8851 - lr: 0.0010\n",
      "Epoch 2/7\n",
      "264/264 [==============================] - 161s 609ms/step - loss: 0.1717 - accuracy: 0.9409 - val_loss: 0.3112 - val_accuracy: 0.8757 - lr: 0.0010\n",
      "Epoch 3/7\n",
      "264/264 [==============================] - 157s 595ms/step - loss: 0.0834 - accuracy: 0.9751 - val_loss: 0.3669 - val_accuracy: 0.8755 - lr: 0.0010\n",
      "Epoch 4/7\n",
      "264/264 [==============================] - 154s 584ms/step - loss: 0.0619 - accuracy: 0.9823 - val_loss: 0.4218 - val_accuracy: 0.8629 - lr: 0.0010\n",
      "Epoch 5/7\n",
      "264/264 [==============================] - 153s 580ms/step - loss: 0.0399 - accuracy: 0.9890 - val_loss: 0.4644 - val_accuracy: 0.8699 - lr: 0.0010\n",
      "Epoch 6/7\n",
      "264/264 [==============================] - 165s 625ms/step - loss: 0.0559 - accuracy: 0.9826 - val_loss: 0.4838 - val_accuracy: 0.8645 - lr: 0.0010\n",
      "Epoch 7/7\n",
      "264/264 [==============================] - 167s 633ms/step - loss: 0.0293 - accuracy: 0.9921 - val_loss: 0.5434 - val_accuracy: 0.8613 - lr: 0.0010\n"
     ]
    }
   ],
   "source": [
    "history = lstm_model.fit(X_train_seq, y_train,\n",
    "                    batch_size=128,\n",
    "                    epochs=7,\n",
    "                    validation_split=0.1,\n",
    "                    callbacks=callbacks)"
   ]
  },
  {
   "cell_type": "code",
   "execution_count": 100,
   "metadata": {},
   "outputs": [],
   "source": [
    "print(f'{lstm_model.name} accuracy: {lstm_model.evaluate(X_test_seq, y_test, verbose=False)[1]}')"
   ]
  }
 ],
 "metadata": {
  "kernelspec": {
   "display_name": "venv",
   "language": "python",
   "name": "python3"
  },
  "language_info": {
   "codemirror_mode": {
    "name": "ipython",
    "version": 3
   },
   "file_extension": ".py",
   "mimetype": "text/x-python",
   "name": "python",
   "nbconvert_exporter": "python",
   "pygments_lexer": "ipython3",
   "version": "3.11.5"
  }
 },
 "nbformat": 4,
 "nbformat_minor": 2
}
