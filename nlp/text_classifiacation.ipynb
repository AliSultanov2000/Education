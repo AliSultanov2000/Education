{
 "cells": [
  {
   "cell_type": "markdown",
   "metadata": {},
   "source": [
    "# Text classification using classic ML approach"
   ]
  },
  {
   "cell_type": "code",
   "execution_count": 1,
   "metadata": {},
   "outputs": [],
   "source": [
    "import pandas as pd\n",
    "import re\n",
    "import gc\n",
    "import warnings\n",
    "import pickle\n",
    "\n",
    "from nltk.stem import SnowballStemmer\n",
    "from nltk.tokenize import word_tokenize\n",
    "from nltk.corpus import stopwords\n",
    "\n",
    "from sklearn.model_selection import train_test_split, GridSearchCV, KFold\n",
    "from sklearn.pipeline import Pipeline\n",
    "from sklearn.feature_extraction.text import TfidfVectorizer\n",
    "from sklearn.linear_model import LogisticRegression\n",
    "from sklearn.exceptions import ConvergenceWarning\n",
    "from sklearn.metrics import confusion_matrix, ConfusionMatrixDisplay, f1_score, auc, roc_curve, RocCurveDisplay\n",
    "from sklearn.preprocessing import FunctionTransformer\n",
    "\n",
    "\n",
    "import matplotlib.pyplot as plt\n",
    "\n",
    "# Ignore ConvergenceWarning\n",
    "warnings.filterwarnings(\"ignore\", category = ConvergenceWarning)"
   ]
  },
  {
   "cell_type": "markdown",
   "metadata": {},
   "source": [
    "#### About Dataset"
   ]
  },
  {
   "cell_type": "code",
   "execution_count": 2,
   "metadata": {},
   "outputs": [
    {
     "data": {
      "text/html": [
       "<div>\n",
       "<style scoped>\n",
       "    .dataframe tbody tr th:only-of-type {\n",
       "        vertical-align: middle;\n",
       "    }\n",
       "\n",
       "    .dataframe tbody tr th {\n",
       "        vertical-align: top;\n",
       "    }\n",
       "\n",
       "    .dataframe thead th {\n",
       "        text-align: right;\n",
       "    }\n",
       "</style>\n",
       "<table border=\"1\" class=\"dataframe\">\n",
       "  <thead>\n",
       "    <tr style=\"text-align: right;\">\n",
       "      <th></th>\n",
       "      <th>review</th>\n",
       "      <th>sentiment</th>\n",
       "    </tr>\n",
       "  </thead>\n",
       "  <tbody>\n",
       "    <tr>\n",
       "      <th>1391</th>\n",
       "      <td>Don't watch this film while, or soon after, ea...</td>\n",
       "      <td>positive</td>\n",
       "    </tr>\n",
       "    <tr>\n",
       "      <th>45343</th>\n",
       "      <td>Film follows a bunch of students in the NYC Hi...</td>\n",
       "      <td>positive</td>\n",
       "    </tr>\n",
       "    <tr>\n",
       "      <th>38810</th>\n",
       "      <td>\"Dead Man Walking\" is a film not about the dea...</td>\n",
       "      <td>positive</td>\n",
       "    </tr>\n",
       "    <tr>\n",
       "      <th>7997</th>\n",
       "      <td>I never realized what a fabulous dancer Lana T...</td>\n",
       "      <td>positive</td>\n",
       "    </tr>\n",
       "    <tr>\n",
       "      <th>26060</th>\n",
       "      <td>I highly recommend this movie to everyone. My ...</td>\n",
       "      <td>positive</td>\n",
       "    </tr>\n",
       "    <tr>\n",
       "      <th>4077</th>\n",
       "      <td>One of the most boring slashers ever.. If you ...</td>\n",
       "      <td>negative</td>\n",
       "    </tr>\n",
       "    <tr>\n",
       "      <th>30463</th>\n",
       "      <td>A have a female friend who is currently being ...</td>\n",
       "      <td>positive</td>\n",
       "    </tr>\n",
       "    <tr>\n",
       "      <th>26438</th>\n",
       "      <td>I was a hippie age 22 in 1965, have seen the p...</td>\n",
       "      <td>negative</td>\n",
       "    </tr>\n",
       "    <tr>\n",
       "      <th>14965</th>\n",
       "      <td>I don't really know what it is about Dirty Dan...</td>\n",
       "      <td>positive</td>\n",
       "    </tr>\n",
       "    <tr>\n",
       "      <th>49382</th>\n",
       "      <td>1st watched 2/18/2007 - 4 out of 10(Dir-Leon L...</td>\n",
       "      <td>negative</td>\n",
       "    </tr>\n",
       "  </tbody>\n",
       "</table>\n",
       "</div>"
      ],
      "text/plain": [
       "                                                  review sentiment\n",
       "1391   Don't watch this film while, or soon after, ea...  positive\n",
       "45343  Film follows a bunch of students in the NYC Hi...  positive\n",
       "38810  \"Dead Man Walking\" is a film not about the dea...  positive\n",
       "7997   I never realized what a fabulous dancer Lana T...  positive\n",
       "26060  I highly recommend this movie to everyone. My ...  positive\n",
       "4077   One of the most boring slashers ever.. If you ...  negative\n",
       "30463  A have a female friend who is currently being ...  positive\n",
       "26438  I was a hippie age 22 in 1965, have seen the p...  negative\n",
       "14965  I don't really know what it is about Dirty Dan...  positive\n",
       "49382  1st watched 2/18/2007 - 4 out of 10(Dir-Leon L...  negative"
      ]
     },
     "execution_count": 2,
     "metadata": {},
     "output_type": "execute_result"
    }
   ],
   "source": [
    "df = pd.read_csv(r'C:\\Users\\1NR_Operator_33\\Desktop\\imdb_dataset.csv')\n",
    "df.sample(10)"
   ]
  },
  {
   "cell_type": "code",
   "execution_count": 3,
   "metadata": {},
   "outputs": [
    {
     "name": "stdout",
     "output_type": "stream",
     "text": [
      "<class 'pandas.core.frame.DataFrame'>\n",
      "RangeIndex: 50000 entries, 0 to 49999\n",
      "Data columns (total 2 columns):\n",
      " #   Column     Non-Null Count  Dtype \n",
      "---  ------     --------------  ----- \n",
      " 0   review     50000 non-null  object\n",
      " 1   sentiment  50000 non-null  object\n",
      "dtypes: object(2)\n",
      "memory usage: 781.4+ KB\n"
     ]
    }
   ],
   "source": [
    "df.info()"
   ]
  },
  {
   "cell_type": "code",
   "execution_count": 4,
   "metadata": {},
   "outputs": [
    {
     "name": "stdout",
     "output_type": "stream",
     "text": [
      "Dataset dimensionality: (50000, 2)\n",
      "The count of classes: 2\n"
     ]
    }
   ],
   "source": [
    "# The Count of classes \n",
    "print(f'Dataset dimensionality: {df.shape}')\n",
    "print(f'The count of classes: {len(df[\"sentiment\"].unique())}')"
   ]
  },
  {
   "cell_type": "code",
   "execution_count": 5,
   "metadata": {},
   "outputs": [
    {
     "data": {
      "text/html": [
       "<div>\n",
       "<style scoped>\n",
       "    .dataframe tbody tr th:only-of-type {\n",
       "        vertical-align: middle;\n",
       "    }\n",
       "\n",
       "    .dataframe tbody tr th {\n",
       "        vertical-align: top;\n",
       "    }\n",
       "\n",
       "    .dataframe thead th {\n",
       "        text-align: right;\n",
       "    }\n",
       "</style>\n",
       "<table border=\"1\" class=\"dataframe\">\n",
       "  <thead>\n",
       "    <tr style=\"text-align: right;\">\n",
       "      <th></th>\n",
       "      <th>text</th>\n",
       "      <th>label</th>\n",
       "    </tr>\n",
       "  </thead>\n",
       "  <tbody>\n",
       "    <tr>\n",
       "      <th>0</th>\n",
       "      <td>One of the other reviewers has mentioned that ...</td>\n",
       "      <td>1</td>\n",
       "    </tr>\n",
       "    <tr>\n",
       "      <th>1</th>\n",
       "      <td>A wonderful little production. &lt;br /&gt;&lt;br /&gt;The...</td>\n",
       "      <td>1</td>\n",
       "    </tr>\n",
       "    <tr>\n",
       "      <th>2</th>\n",
       "      <td>I thought this was a wonderful way to spend ti...</td>\n",
       "      <td>1</td>\n",
       "    </tr>\n",
       "    <tr>\n",
       "      <th>3</th>\n",
       "      <td>Basically there's a family where a little boy ...</td>\n",
       "      <td>0</td>\n",
       "    </tr>\n",
       "    <tr>\n",
       "      <th>4</th>\n",
       "      <td>Petter Mattei's \"Love in the Time of Money\" is...</td>\n",
       "      <td>1</td>\n",
       "    </tr>\n",
       "    <tr>\n",
       "      <th>...</th>\n",
       "      <td>...</td>\n",
       "      <td>...</td>\n",
       "    </tr>\n",
       "    <tr>\n",
       "      <th>49995</th>\n",
       "      <td>I thought this movie did a down right good job...</td>\n",
       "      <td>1</td>\n",
       "    </tr>\n",
       "    <tr>\n",
       "      <th>49996</th>\n",
       "      <td>Bad plot, bad dialogue, bad acting, idiotic di...</td>\n",
       "      <td>0</td>\n",
       "    </tr>\n",
       "    <tr>\n",
       "      <th>49997</th>\n",
       "      <td>I am a Catholic taught in parochial elementary...</td>\n",
       "      <td>0</td>\n",
       "    </tr>\n",
       "    <tr>\n",
       "      <th>49998</th>\n",
       "      <td>I'm going to have to disagree with the previou...</td>\n",
       "      <td>0</td>\n",
       "    </tr>\n",
       "    <tr>\n",
       "      <th>49999</th>\n",
       "      <td>No one expects the Star Trek movies to be high...</td>\n",
       "      <td>0</td>\n",
       "    </tr>\n",
       "  </tbody>\n",
       "</table>\n",
       "<p>50000 rows × 2 columns</p>\n",
       "</div>"
      ],
      "text/plain": [
       "                                                    text  label\n",
       "0      One of the other reviewers has mentioned that ...      1\n",
       "1      A wonderful little production. <br /><br />The...      1\n",
       "2      I thought this was a wonderful way to spend ti...      1\n",
       "3      Basically there's a family where a little boy ...      0\n",
       "4      Petter Mattei's \"Love in the Time of Money\" is...      1\n",
       "...                                                  ...    ...\n",
       "49995  I thought this movie did a down right good job...      1\n",
       "49996  Bad plot, bad dialogue, bad acting, idiotic di...      0\n",
       "49997  I am a Catholic taught in parochial elementary...      0\n",
       "49998  I'm going to have to disagree with the previou...      0\n",
       "49999  No one expects the Star Trek movies to be high...      0\n",
       "\n",
       "[50000 rows x 2 columns]"
      ]
     },
     "execution_count": 5,
     "metadata": {},
     "output_type": "execute_result"
    }
   ],
   "source": [
    "df['sentiment'] = df['sentiment'].map({'negative': 0,'positive': 1})  # Label prep\n",
    "df = df.rename(columns={'review':'text', 'sentiment': 'label'})  \n",
    "df"
   ]
  },
  {
   "cell_type": "code",
   "execution_count": 6,
   "metadata": {},
   "outputs": [
    {
     "data": {
      "text/plain": [
       "text     string[python]\n",
       "label              int8\n",
       "dtype: object"
      ]
     },
     "execution_count": 6,
     "metadata": {},
     "output_type": "execute_result"
    }
   ],
   "source": [
    "df = df.astype({'text': 'string', 'label': 'int8'})\n",
    "df.dtypes"
   ]
  },
  {
   "cell_type": "markdown",
   "metadata": {},
   "source": [
    "#### EDA"
   ]
  },
  {
   "cell_type": "code",
   "execution_count": 7,
   "metadata": {},
   "outputs": [],
   "source": [
    "plt.style.use('seaborn-v0_8')\n",
    "%matplotlib inline "
   ]
  },
  {
   "cell_type": "code",
   "execution_count": 119,
   "metadata": {},
   "outputs": [
    {
     "data": {
      "image/png": "[encoded data removed]",
      "text/plain": [
       "<Figure size 800x550 with 1 Axes>"
      ]
     },
     "metadata": {},
     "output_type": "display_data"
    }
   ],
   "source": [
    "\n",
    "\n",
    "pie_data = df['label'].value_counts()\n",
    "labels, values = pie_data.index, pie_data.values\n",
    "\n",
    "fig, ax = plt.subplots()\n",
    "ax.set(title='Distribution of class labels')\n",
    "ax.pie(values, labels=['Positive', 'Negative'], autopct='%1.1f%%');"
   ]
  },
  {
   "cell_type": "code",
   "execution_count": 130,
   "metadata": {},
   "outputs": [
    {
     "data": {
      "image/png": "[encoded data removed]",
      "text/plain": [
       "<Figure size 800x550 with 1 Axes>"
      ]
     },
     "metadata": {},
     "output_type": "display_data"
    }
   ],
   "source": [
    "\n",
    "\n",
    "text_lens = [len(df['text'][i].split()) for i in range(len(df))]\n",
    "\n",
    "fig, ax = plt.subplots()\n",
    "ax.set(xlabel='Length', ylabel='Count', title='Split text length histogram')\n",
    "ax.hist(text_lens, bins=100, ec='black');"
   ]
  },
  {
   "cell_type": "code",
   "execution_count": 129,
   "metadata": {},
   "outputs": [
    {
     "data": {
      "image/png": "[encoded data removed]",
      "text/plain": [
       "<Figure size 800x550 with 1 Axes>"
      ]
     },
     "metadata": {},
     "output_type": "display_data"
    }
   ],
   "source": [
    "\n",
    "\n",
    "text_lens = [len(df['text'][i]) for i in range(len(df))]\n",
    "\n",
    "fig, ax = plt.subplots()\n",
    "ax.set(xlabel='Length', ylabel='Count', title='Text length histogram')\n",
    "ax.hist(text_lens, bins=100, ec='black');"
   ]
  },
  {
   "cell_type": "markdown",
   "metadata": {},
   "source": [
    "#### Text preprocessing"
   ]
  },
  {
   "cell_type": "code",
   "execution_count": 7,
   "metadata": {},
   "outputs": [],
   "source": [
    "def symbols_remove(input_text: str) -> str:\n",
    "    \"\"\"Deleting all characters except words.\n",
    "       The function starts with apply for the entire case\"\"\"\n",
    "    \n",
    "    link_process = re.sub(r\"http://\\S+|https://\\S+\", \"\", input_text)  # Links removing\n",
    "\n",
    "    garbage_process = re.sub(r'([^\\s\\w])', '', link_process)  # Garbage removing\n",
    "\n",
    "    word_process = re.sub(r'\\w*\\d+\\w*', ' ', garbage_process)  # ОNLY WORDS\n",
    "\n",
    "    output_text = re.sub('\\s+', ' ', word_process).strip().lower()  # Space removing, register transfer\n",
    "\n",
    "    return re.sub(r'\\n', '', output_text)"
   ]
  },
  {
   "cell_type": "code",
   "execution_count": 8,
   "metadata": {},
   "outputs": [],
   "source": [
    "stemmer = SnowballStemmer('english')              # For stemmer\n",
    "STOP_WORDS_ENGLISH = stopwords.words('english')   # The block of stop-words\n",
    "\n",
    "def text_preprocessing(input_text: str) -> str:\n",
    "   \"\"\"Tokenization, removal of stop words, spelling correction,\n",
    "      Stemming, transfer from the list of tokens to str (for the vectorization stage)\n",
    "      The function starts with apply for the entire corpus\"\"\"\n",
    "   \n",
    "   text_tokens = word_tokenize(input_text)                                               # Tokenization\n",
    "   \n",
    "   text_without_sw = [word for word in text_tokens if word not in STOP_WORDS_ENGLISH]    # Stop-words removing \n",
    "\n",
    "   text_with_stemming = [stemmer.stem(word) for word in text_without_sw]                 # Stemming\n",
    "\n",
    "   output_text = ' '.join(text_with_stemming)\n",
    "   \n",
    "   return output_text"
   ]
  },
  {
   "cell_type": "code",
   "execution_count": 9,
   "metadata": {},
   "outputs": [
    {
     "data": {
      "text/plain": [
       "7"
      ]
     },
     "execution_count": 9,
     "metadata": {},
     "output_type": "execute_result"
    }
   ],
   "source": [
    "df['preprocess_text'] = df['text'].apply(symbols_remove)      # RegEx preprocessing\n",
    "df['preprocess_text'] = df['preprocess_text'].apply(text_preprocessing)  # Tokenization, stop words, spelling, stemming, return to str\n",
    "\n",
    "df_labels = df.pop('label') \n",
    "df.insert(2, 'label', df_labels) \n",
    "gc.collect()"
   ]
  },
  {
   "cell_type": "code",
   "execution_count": 9,
   "metadata": {},
   "outputs": [
    {
     "data": {
      "text/html": [
       "<div>\n",
       "<style scoped>\n",
       "    .dataframe tbody tr th:only-of-type {\n",
       "        vertical-align: middle;\n",
       "    }\n",
       "\n",
       "    .dataframe tbody tr th {\n",
       "        vertical-align: top;\n",
       "    }\n",
       "\n",
       "    .dataframe thead th {\n",
       "        text-align: right;\n",
       "    }\n",
       "</style>\n",
       "<table border=\"1\" class=\"dataframe\">\n",
       "  <thead>\n",
       "    <tr style=\"text-align: right;\">\n",
       "      <th></th>\n",
       "      <th>text</th>\n",
       "      <th>preprocess_text</th>\n",
       "      <th>label</th>\n",
       "    </tr>\n",
       "  </thead>\n",
       "  <tbody>\n",
       "    <tr>\n",
       "      <th>16493</th>\n",
       "      <td>A lot of people in the cinema enjoyed this fil...</td>\n",
       "      <td>lot peopl cinema enjoy film made feel misanthr...</td>\n",
       "      <td>0</td>\n",
       "    </tr>\n",
       "    <tr>\n",
       "      <th>4018</th>\n",
       "      <td>At school I was taught how some shots were cal...</td>\n",
       "      <td>school taught shot call two director constant ...</td>\n",
       "      <td>1</td>\n",
       "    </tr>\n",
       "    <tr>\n",
       "      <th>8768</th>\n",
       "      <td>I wish they would just make a special section ...</td>\n",
       "      <td>wish would make special section video rental s...</td>\n",
       "      <td>0</td>\n",
       "    </tr>\n",
       "    <tr>\n",
       "      <th>44029</th>\n",
       "      <td>A tremendous action movie that I have ever see...</td>\n",
       "      <td>tremend action movi ever seen first express ut...</td>\n",
       "      <td>1</td>\n",
       "    </tr>\n",
       "    <tr>\n",
       "      <th>44354</th>\n",
       "      <td>Bedrooms and Hallways was one of the funniest ...</td>\n",
       "      <td>bedroom hallway one funniest film melbourn fil...</td>\n",
       "      <td>1</td>\n",
       "    </tr>\n",
       "    <tr>\n",
       "      <th>34849</th>\n",
       "      <td>Out of these Pokemon films (which are in order...</td>\n",
       "      <td>pokemon film order best least pokemon first mo...</td>\n",
       "      <td>1</td>\n",
       "    </tr>\n",
       "    <tr>\n",
       "      <th>14230</th>\n",
       "      <td>I saw this movie with some Indian friends on C...</td>\n",
       "      <td>saw movi indian friend christma day quick summ...</td>\n",
       "      <td>0</td>\n",
       "    </tr>\n",
       "    <tr>\n",
       "      <th>15821</th>\n",
       "      <td>I just attended a preview screening of this fi...</td>\n",
       "      <td>attend preview screen film masterpiec document...</td>\n",
       "      <td>0</td>\n",
       "    </tr>\n",
       "    <tr>\n",
       "      <th>4213</th>\n",
       "      <td>Fate puts a pair of priceless items in Ernest'...</td>\n",
       "      <td>fate put pair priceless item ernest hand get k...</td>\n",
       "      <td>1</td>\n",
       "    </tr>\n",
       "    <tr>\n",
       "      <th>6370</th>\n",
       "      <td>The movie was excellent, save for some of the ...</td>\n",
       "      <td>movi excel save scene esposito enjoy brought t...</td>\n",
       "      <td>1</td>\n",
       "    </tr>\n",
       "  </tbody>\n",
       "</table>\n",
       "</div>"
      ],
      "text/plain": [
       "                                                    text  \\\n",
       "16493  A lot of people in the cinema enjoyed this fil...   \n",
       "4018   At school I was taught how some shots were cal...   \n",
       "8768   I wish they would just make a special section ...   \n",
       "44029  A tremendous action movie that I have ever see...   \n",
       "44354  Bedrooms and Hallways was one of the funniest ...   \n",
       "34849  Out of these Pokemon films (which are in order...   \n",
       "14230  I saw this movie with some Indian friends on C...   \n",
       "15821  I just attended a preview screening of this fi...   \n",
       "4213   Fate puts a pair of priceless items in Ernest'...   \n",
       "6370   The movie was excellent, save for some of the ...   \n",
       "\n",
       "                                         preprocess_text  label  \n",
       "16493  lot peopl cinema enjoy film made feel misanthr...      0  \n",
       "4018   school taught shot call two director constant ...      1  \n",
       "8768   wish would make special section video rental s...      0  \n",
       "44029  tremend action movi ever seen first express ut...      1  \n",
       "44354  bedroom hallway one funniest film melbourn fil...      1  \n",
       "34849  pokemon film order best least pokemon first mo...      1  \n",
       "14230  saw movi indian friend christma day quick summ...      0  \n",
       "15821  attend preview screen film masterpiec document...      0  \n",
       "4213   fate put pair priceless item ernest hand get k...      1  \n",
       "6370   movi excel save scene esposito enjoy brought t...      1  "
      ]
     },
     "execution_count": 9,
     "metadata": {},
     "output_type": "execute_result"
    }
   ],
   "source": [
    "df.sample(10)  # Let's look at result"
   ]
  },
  {
   "cell_type": "code",
   "execution_count": 13,
   "metadata": {},
   "outputs": [],
   "source": [
    "# Train & test split\n",
    "RANDOM_STATE = 50\n",
    "X_train, X_test, y_train, y_test = train_test_split(df['preprocess_text'], df['label'],\n",
    "                                                    test_size=0.2,\n",
    "                                                    shuffle=True,\n",
    "                                                    random_state=RANDOM_STATE)"
   ]
  },
  {
   "cell_type": "markdown",
   "metadata": {},
   "source": [
    "#### Model"
   ]
  },
  {
   "cell_type": "code",
   "execution_count": 14,
   "metadata": {},
   "outputs": [],
   "source": [
    "text_pipeline = Pipeline([\n",
    "                          ('vectorizer', TfidfVectorizer()), \n",
    "                          ('lr', LogisticRegression())\n",
    "                         ])"
   ]
  },
  {
   "cell_type": "code",
   "execution_count": 15,
   "metadata": {},
   "outputs": [
    {
     "name": "stdout",
     "output_type": "stream",
     "text": [
      "Fitting 5 folds for each of 8 candidates, totalling 40 fits\n"
     ]
    },
    {
     "data": {
      "text/html": [
       "<style>#sk-container-id-1 {color: black;}#sk-container-id-1 pre{padding: 0;}#sk-container-id-1 div.sk-toggleable {background-color: white;}#sk-container-id-1 label.sk-toggleable__label {cursor: pointer;display: block;width: 100%;margin-bottom: 0;padding: 0.3em;box-sizing: border-box;text-align: center;}#sk-container-id-1 label.sk-toggleable__label-arrow:before {content: \"▸\";float: left;margin-right: 0.25em;color: #696969;}#sk-container-id-1 label.sk-toggleable__label-arrow:hover:before {color: black;}#sk-container-id-1 div.sk-estimator:hover label.sk-toggleable__label-arrow:before {color: black;}#sk-container-id-1 div.sk-toggleable__content {max-height: 0;max-width: 0;overflow: hidden;text-align: left;background-color: #f0f8ff;}#sk-container-id-1 div.sk-toggleable__content pre {margin: 0.2em;color: black;border-radius: 0.25em;background-color: #f0f8ff;}#sk-container-id-1 input.sk-toggleable__control:checked~div.sk-toggleable__content {max-height: 200px;max-width: 100%;overflow: auto;}#sk-container-id-1 input.sk-toggleable__control:checked~label.sk-toggleable__label-arrow:before {content: \"▾\";}#sk-container-id-1 div.sk-estimator input.sk-toggleable__control:checked~label.sk-toggleable__label {background-color: #d4ebff;}#sk-container-id-1 div.sk-label input.sk-toggleable__control:checked~label.sk-toggleable__label {background-color: #d4ebff;}#sk-container-id-1 input.sk-hidden--visually {border: 0;clip: rect(1px 1px 1px 1px);clip: rect(1px, 1px, 1px, 1px);height: 1px;margin: -1px;overflow: hidden;padding: 0;position: absolute;width: 1px;}#sk-container-id-1 div.sk-estimator {font-family: monospace;background-color: #f0f8ff;border: 1px dotted black;border-radius: 0.25em;box-sizing: border-box;margin-bottom: 0.5em;}#sk-container-id-1 div.sk-estimator:hover {background-color: #d4ebff;}#sk-container-id-1 div.sk-parallel-item::after {content: \"\";width: 100%;border-bottom: 1px solid gray;flex-grow: 1;}#sk-container-id-1 div.sk-label:hover label.sk-toggleable__label {background-color: #d4ebff;}#sk-container-id-1 div.sk-serial::before {content: \"\";position: absolute;border-left: 1px solid gray;box-sizing: border-box;top: 0;bottom: 0;left: 50%;z-index: 0;}#sk-container-id-1 div.sk-serial {display: flex;flex-direction: column;align-items: center;background-color: white;padding-right: 0.2em;padding-left: 0.2em;position: relative;}#sk-container-id-1 div.sk-item {position: relative;z-index: 1;}#sk-container-id-1 div.sk-parallel {display: flex;align-items: stretch;justify-content: center;background-color: white;position: relative;}#sk-container-id-1 div.sk-item::before, #sk-container-id-1 div.sk-parallel-item::before {content: \"\";position: absolute;border-left: 1px solid gray;box-sizing: border-box;top: 0;bottom: 0;left: 50%;z-index: -1;}#sk-container-id-1 div.sk-parallel-item {display: flex;flex-direction: column;z-index: 1;position: relative;background-color: white;}#sk-container-id-1 div.sk-parallel-item:first-child::after {align-self: flex-end;width: 50%;}#sk-container-id-1 div.sk-parallel-item:last-child::after {align-self: flex-start;width: 50%;}#sk-container-id-1 div.sk-parallel-item:only-child::after {width: 0;}#sk-container-id-1 div.sk-dashed-wrapped {border: 1px dashed gray;margin: 0 0.4em 0.5em 0.4em;box-sizing: border-box;padding-bottom: 0.4em;background-color: white;}#sk-container-id-1 div.sk-label label {font-family: monospace;font-weight: bold;display: inline-block;line-height: 1.2em;}#sk-container-id-1 div.sk-label-container {text-align: center;}#sk-container-id-1 div.sk-container {/* jupyter's `normalize.less` sets `[hidden] { display: none; }` but bootstrap.min.css set `[hidden] { display: none !important; }` so we also need the `!important` here to be able to override the default hidden behavior on the sphinx rendered scikit-learn.org. See: https://github.com/scikit-learn/scikit-learn/issues/21755 */display: inline-block !important;position: relative;}#sk-container-id-1 div.sk-text-repr-fallback {display: none;}</style><div id=\"sk-container-id-1\" class=\"sk-top-container\"><div class=\"sk-text-repr-fallback\"><pre>GridSearchCV(cv=KFold(n_splits=5, random_state=50, shuffle=True),\n",
       "             estimator=Pipeline(steps=[(&#x27;vectorizer&#x27;, TfidfVectorizer()),\n",
       "                                       (&#x27;lr&#x27;, LogisticRegression())]),\n",
       "             param_grid={&#x27;lr__C&#x27;: [5, 15, 50, 100],\n",
       "                         &#x27;vectorizer__ngram_range&#x27;: [(1, 1), (1, 2)]},\n",
       "             scoring=&#x27;f1&#x27;, verbose=1)</pre><b>In a Jupyter environment, please rerun this cell to show the HTML representation or trust the notebook. <br />On GitHub, the HTML representation is unable to render, please try loading this page with nbviewer.org.</b></div><div class=\"sk-container\" hidden><div class=\"sk-item sk-dashed-wrapped\"><div class=\"sk-label-container\"><div class=\"sk-label sk-toggleable\"><input class=\"sk-toggleable__control sk-hidden--visually\" id=\"sk-estimator-id-1\" type=\"checkbox\" ><label for=\"sk-estimator-id-1\" class=\"sk-toggleable__label sk-toggleable__label-arrow\">GridSearchCV</label><div class=\"sk-toggleable__content\"><pre>GridSearchCV(cv=KFold(n_splits=5, random_state=50, shuffle=True),\n",
       "             estimator=Pipeline(steps=[(&#x27;vectorizer&#x27;, TfidfVectorizer()),\n",
       "                                       (&#x27;lr&#x27;, LogisticRegression())]),\n",
       "             param_grid={&#x27;lr__C&#x27;: [5, 15, 50, 100],\n",
       "                         &#x27;vectorizer__ngram_range&#x27;: [(1, 1), (1, 2)]},\n",
       "             scoring=&#x27;f1&#x27;, verbose=1)</pre></div></div></div><div class=\"sk-parallel\"><div class=\"sk-parallel-item\"><div class=\"sk-item\"><div class=\"sk-label-container\"><div class=\"sk-label sk-toggleable\"><input class=\"sk-toggleable__control sk-hidden--visually\" id=\"sk-estimator-id-2\" type=\"checkbox\" ><label for=\"sk-estimator-id-2\" class=\"sk-toggleable__label sk-toggleable__label-arrow\">estimator: Pipeline</label><div class=\"sk-toggleable__content\"><pre>Pipeline(steps=[(&#x27;vectorizer&#x27;, TfidfVectorizer()),\n",
       "                (&#x27;lr&#x27;, LogisticRegression())])</pre></div></div></div><div class=\"sk-serial\"><div class=\"sk-item\"><div class=\"sk-serial\"><div class=\"sk-item\"><div class=\"sk-estimator sk-toggleable\"><input class=\"sk-toggleable__control sk-hidden--visually\" id=\"sk-estimator-id-3\" type=\"checkbox\" ><label for=\"sk-estimator-id-3\" class=\"sk-toggleable__label sk-toggleable__label-arrow\">TfidfVectorizer</label><div class=\"sk-toggleable__content\"><pre>TfidfVectorizer()</pre></div></div></div><div class=\"sk-item\"><div class=\"sk-estimator sk-toggleable\"><input class=\"sk-toggleable__control sk-hidden--visually\" id=\"sk-estimator-id-4\" type=\"checkbox\" ><label for=\"sk-estimator-id-4\" class=\"sk-toggleable__label sk-toggleable__label-arrow\">LogisticRegression</label><div class=\"sk-toggleable__content\"><pre>LogisticRegression()</pre></div></div></div></div></div></div></div></div></div></div></div></div>"
      ],
      "text/plain": [
       "GridSearchCV(cv=KFold(n_splits=5, random_state=50, shuffle=True),\n",
       "             estimator=Pipeline(steps=[('vectorizer', TfidfVectorizer()),\n",
       "                                       ('lr', LogisticRegression())]),\n",
       "             param_grid={'lr__C': [5, 15, 50, 100],\n",
       "                         'vectorizer__ngram_range': [(1, 1), (1, 2)]},\n",
       "             scoring='f1', verbose=1)"
      ]
     },
     "execution_count": 15,
     "metadata": {},
     "output_type": "execute_result"
    }
   ],
   "source": [
    "# Grid parametrs\n",
    "parametrs = {\n",
    "              'vectorizer__ngram_range': [(1, 1), (1, 2)],\n",
    "              'lr__C': [5, 15, 50, 100],\n",
    "            }\n",
    "\n",
    "# CrossValidation into GridSearch\n",
    "kf = KFold(n_splits=5, shuffle=True, random_state=RANDOM_STATE)\n",
    "\n",
    "# Create grid search (+ CrossValidation in GridSearch)\n",
    "grid_search = GridSearchCV(text_pipeline,\n",
    "                           parametrs,\n",
    "                           scoring='f1',\n",
    "                           cv=kf,\n",
    "                           verbose=1)\n",
    "\n",
    "# Start\n",
    "grid_search.fit(X_train, y_train)"
   ]
  },
  {
   "cell_type": "code",
   "execution_count": 16,
   "metadata": {},
   "outputs": [
    {
     "data": {
      "text/html": [
       "<style type=\"text/css\">\n",
       "</style>\n",
       "<table id=\"T_f396a\">\n",
       "  <caption>Grid Search statistic data</caption>\n",
       "  <thead>\n",
       "    <tr>\n",
       "      <th class=\"blank level0\" >&nbsp;</th>\n",
       "      <th id=\"T_f396a_level0_col0\" class=\"col_heading level0 col0\" >mean</th>\n",
       "      <th id=\"T_f396a_level0_col1\" class=\"col_heading level0 col1\" >std</th>\n",
       "      <th id=\"T_f396a_level0_col2\" class=\"col_heading level0 col2\" >params</th>\n",
       "    </tr>\n",
       "  </thead>\n",
       "  <tbody>\n",
       "    <tr>\n",
       "      <th id=\"T_f396a_level0_row0\" class=\"row_heading level0 row0\" >0</th>\n",
       "      <td id=\"T_f396a_row0_col0\" class=\"data row0 col0\" >0.894181</td>\n",
       "      <td id=\"T_f396a_row0_col1\" class=\"data row0 col1\" >0.003091</td>\n",
       "      <td id=\"T_f396a_row0_col2\" class=\"data row0 col2\" >{'lr__C': 5, 'vectorizer__ngram_range': (1, 1)}</td>\n",
       "    </tr>\n",
       "    <tr>\n",
       "      <th id=\"T_f396a_level0_row1\" class=\"row_heading level0 row1\" >1</th>\n",
       "      <td id=\"T_f396a_row1_col0\" class=\"data row1 col0\" >0.899497</td>\n",
       "      <td id=\"T_f396a_row1_col1\" class=\"data row1 col1\" >0.003493</td>\n",
       "      <td id=\"T_f396a_row1_col2\" class=\"data row1 col2\" >{'lr__C': 5, 'vectorizer__ngram_range': (1, 2)}</td>\n",
       "    </tr>\n",
       "    <tr>\n",
       "      <th id=\"T_f396a_level0_row2\" class=\"row_heading level0 row2\" >2</th>\n",
       "      <td id=\"T_f396a_row2_col0\" class=\"data row2 col0\" >0.890553</td>\n",
       "      <td id=\"T_f396a_row2_col1\" class=\"data row2 col1\" >0.001914</td>\n",
       "      <td id=\"T_f396a_row2_col2\" class=\"data row2 col2\" >{'lr__C': 15, 'vectorizer__ngram_range': (1, 1)}</td>\n",
       "    </tr>\n",
       "    <tr>\n",
       "      <th id=\"T_f396a_level0_row3\" class=\"row_heading level0 row3\" >3</th>\n",
       "      <td id=\"T_f396a_row3_col0\" class=\"data row3 col0\" >0.902319</td>\n",
       "      <td id=\"T_f396a_row3_col1\" class=\"data row3 col1\" >0.002840</td>\n",
       "      <td id=\"T_f396a_row3_col2\" class=\"data row3 col2\" >{'lr__C': 15, 'vectorizer__ngram_range': (1, 2)}</td>\n",
       "    </tr>\n",
       "    <tr>\n",
       "      <th id=\"T_f396a_level0_row4\" class=\"row_heading level0 row4\" >4</th>\n",
       "      <td id=\"T_f396a_row4_col0\" class=\"data row4 col0\" >0.885599</td>\n",
       "      <td id=\"T_f396a_row4_col1\" class=\"data row4 col1\" >0.002123</td>\n",
       "      <td id=\"T_f396a_row4_col2\" class=\"data row4 col2\" >{'lr__C': 50, 'vectorizer__ngram_range': (1, 1)}</td>\n",
       "    </tr>\n",
       "    <tr>\n",
       "      <th id=\"T_f396a_level0_row5\" class=\"row_heading level0 row5\" >5</th>\n",
       "      <td id=\"T_f396a_row5_col0\" class=\"data row5 col0\" >0.903825</td>\n",
       "      <td id=\"T_f396a_row5_col1\" class=\"data row5 col1\" >0.002973</td>\n",
       "      <td id=\"T_f396a_row5_col2\" class=\"data row5 col2\" >{'lr__C': 50, 'vectorizer__ngram_range': (1, 2)}</td>\n",
       "    </tr>\n",
       "    <tr>\n",
       "      <th id=\"T_f396a_level0_row6\" class=\"row_heading level0 row6\" >6</th>\n",
       "      <td id=\"T_f396a_row6_col0\" class=\"data row6 col0\" >0.883967</td>\n",
       "      <td id=\"T_f396a_row6_col1\" class=\"data row6 col1\" >0.001997</td>\n",
       "      <td id=\"T_f396a_row6_col2\" class=\"data row6 col2\" >{'lr__C': 100, 'vectorizer__ngram_range': (1, 1)}</td>\n",
       "    </tr>\n",
       "    <tr>\n",
       "      <th id=\"T_f396a_level0_row7\" class=\"row_heading level0 row7\" >7</th>\n",
       "      <td id=\"T_f396a_row7_col0\" class=\"data row7 col0\" >0.903953</td>\n",
       "      <td id=\"T_f396a_row7_col1\" class=\"data row7 col1\" >0.002952</td>\n",
       "      <td id=\"T_f396a_row7_col2\" class=\"data row7 col2\" >{'lr__C': 100, 'vectorizer__ngram_range': (1, 2)}</td>\n",
       "    </tr>\n",
       "  </tbody>\n",
       "</table>\n"
      ],
      "text/plain": [
       "<pandas.io.formats.style.Styler at 0x1186f3da410>"
      ]
     },
     "execution_count": 16,
     "metadata": {},
     "output_type": "execute_result"
    }
   ],
   "source": [
    "mean = grid_search.cv_results_['mean_test_score']  \n",
    "std = grid_search.cv_results_['std_test_score']  \n",
    "param = grid_search.cv_results_['params']  \n",
    "\n",
    "grid_search_df = pd.DataFrame({'mean': mean, 'std': std, 'params': param})\n",
    "grid_search_df.style.set_caption(\"Grid Search statistic data\")"
   ]
  },
  {
   "cell_type": "code",
   "execution_count": 17,
   "metadata": {},
   "outputs": [
    {
     "name": "stdout",
     "output_type": "stream",
     "text": [
      "GRID SEARCH BEST SCORE: 0.9039526367646047\n",
      "GRID SEARCH BEST PARAMS: {'lr__C': 100, 'vectorizer__ngram_range': (1, 2)}\n"
     ]
    }
   ],
   "source": [
    "print(f'GRID SEARCH BEST SCORE: {grid_search.best_score_}')\n",
    "print(f'GRID SEARCH BEST PARAMS: {grid_search.best_params_}')"
   ]
  },
  {
   "cell_type": "code",
   "execution_count": 18,
   "metadata": {},
   "outputs": [
    {
     "data": {
      "text/html": [
       "<style>#sk-container-id-2 {color: black;}#sk-container-id-2 pre{padding: 0;}#sk-container-id-2 div.sk-toggleable {background-color: white;}#sk-container-id-2 label.sk-toggleable__label {cursor: pointer;display: block;width: 100%;margin-bottom: 0;padding: 0.3em;box-sizing: border-box;text-align: center;}#sk-container-id-2 label.sk-toggleable__label-arrow:before {content: \"▸\";float: left;margin-right: 0.25em;color: #696969;}#sk-container-id-2 label.sk-toggleable__label-arrow:hover:before {color: black;}#sk-container-id-2 div.sk-estimator:hover label.sk-toggleable__label-arrow:before {color: black;}#sk-container-id-2 div.sk-toggleable__content {max-height: 0;max-width: 0;overflow: hidden;text-align: left;background-color: #f0f8ff;}#sk-container-id-2 div.sk-toggleable__content pre {margin: 0.2em;color: black;border-radius: 0.25em;background-color: #f0f8ff;}#sk-container-id-2 input.sk-toggleable__control:checked~div.sk-toggleable__content {max-height: 200px;max-width: 100%;overflow: auto;}#sk-container-id-2 input.sk-toggleable__control:checked~label.sk-toggleable__label-arrow:before {content: \"▾\";}#sk-container-id-2 div.sk-estimator input.sk-toggleable__control:checked~label.sk-toggleable__label {background-color: #d4ebff;}#sk-container-id-2 div.sk-label input.sk-toggleable__control:checked~label.sk-toggleable__label {background-color: #d4ebff;}#sk-container-id-2 input.sk-hidden--visually {border: 0;clip: rect(1px 1px 1px 1px);clip: rect(1px, 1px, 1px, 1px);height: 1px;margin: -1px;overflow: hidden;padding: 0;position: absolute;width: 1px;}#sk-container-id-2 div.sk-estimator {font-family: monospace;background-color: #f0f8ff;border: 1px dotted black;border-radius: 0.25em;box-sizing: border-box;margin-bottom: 0.5em;}#sk-container-id-2 div.sk-estimator:hover {background-color: #d4ebff;}#sk-container-id-2 div.sk-parallel-item::after {content: \"\";width: 100%;border-bottom: 1px solid gray;flex-grow: 1;}#sk-container-id-2 div.sk-label:hover label.sk-toggleable__label {background-color: #d4ebff;}#sk-container-id-2 div.sk-serial::before {content: \"\";position: absolute;border-left: 1px solid gray;box-sizing: border-box;top: 0;bottom: 0;left: 50%;z-index: 0;}#sk-container-id-2 div.sk-serial {display: flex;flex-direction: column;align-items: center;background-color: white;padding-right: 0.2em;padding-left: 0.2em;position: relative;}#sk-container-id-2 div.sk-item {position: relative;z-index: 1;}#sk-container-id-2 div.sk-parallel {display: flex;align-items: stretch;justify-content: center;background-color: white;position: relative;}#sk-container-id-2 div.sk-item::before, #sk-container-id-2 div.sk-parallel-item::before {content: \"\";position: absolute;border-left: 1px solid gray;box-sizing: border-box;top: 0;bottom: 0;left: 50%;z-index: -1;}#sk-container-id-2 div.sk-parallel-item {display: flex;flex-direction: column;z-index: 1;position: relative;background-color: white;}#sk-container-id-2 div.sk-parallel-item:first-child::after {align-self: flex-end;width: 50%;}#sk-container-id-2 div.sk-parallel-item:last-child::after {align-self: flex-start;width: 50%;}#sk-container-id-2 div.sk-parallel-item:only-child::after {width: 0;}#sk-container-id-2 div.sk-dashed-wrapped {border: 1px dashed gray;margin: 0 0.4em 0.5em 0.4em;box-sizing: border-box;padding-bottom: 0.4em;background-color: white;}#sk-container-id-2 div.sk-label label {font-family: monospace;font-weight: bold;display: inline-block;line-height: 1.2em;}#sk-container-id-2 div.sk-label-container {text-align: center;}#sk-container-id-2 div.sk-container {/* jupyter's `normalize.less` sets `[hidden] { display: none; }` but bootstrap.min.css set `[hidden] { display: none !important; }` so we also need the `!important` here to be able to override the default hidden behavior on the sphinx rendered scikit-learn.org. See: https://github.com/scikit-learn/scikit-learn/issues/21755 */display: inline-block !important;position: relative;}#sk-container-id-2 div.sk-text-repr-fallback {display: none;}</style><div id=\"sk-container-id-2\" class=\"sk-top-container\"><div class=\"sk-text-repr-fallback\"><pre>Pipeline(steps=[(&#x27;vectorizer&#x27;, TfidfVectorizer(ngram_range=(1, 2))),\n",
       "                (&#x27;lr&#x27;, LogisticRegression(C=100))])</pre><b>In a Jupyter environment, please rerun this cell to show the HTML representation or trust the notebook. <br />On GitHub, the HTML representation is unable to render, please try loading this page with nbviewer.org.</b></div><div class=\"sk-container\" hidden><div class=\"sk-item sk-dashed-wrapped\"><div class=\"sk-label-container\"><div class=\"sk-label sk-toggleable\"><input class=\"sk-toggleable__control sk-hidden--visually\" id=\"sk-estimator-id-5\" type=\"checkbox\" ><label for=\"sk-estimator-id-5\" class=\"sk-toggleable__label sk-toggleable__label-arrow\">Pipeline</label><div class=\"sk-toggleable__content\"><pre>Pipeline(steps=[(&#x27;vectorizer&#x27;, TfidfVectorizer(ngram_range=(1, 2))),\n",
       "                (&#x27;lr&#x27;, LogisticRegression(C=100))])</pre></div></div></div><div class=\"sk-serial\"><div class=\"sk-item\"><div class=\"sk-estimator sk-toggleable\"><input class=\"sk-toggleable__control sk-hidden--visually\" id=\"sk-estimator-id-6\" type=\"checkbox\" ><label for=\"sk-estimator-id-6\" class=\"sk-toggleable__label sk-toggleable__label-arrow\">TfidfVectorizer</label><div class=\"sk-toggleable__content\"><pre>TfidfVectorizer(ngram_range=(1, 2))</pre></div></div></div><div class=\"sk-item\"><div class=\"sk-estimator sk-toggleable\"><input class=\"sk-toggleable__control sk-hidden--visually\" id=\"sk-estimator-id-7\" type=\"checkbox\" ><label for=\"sk-estimator-id-7\" class=\"sk-toggleable__label sk-toggleable__label-arrow\">LogisticRegression</label><div class=\"sk-toggleable__content\"><pre>LogisticRegression(C=100)</pre></div></div></div></div></div></div></div>"
      ],
      "text/plain": [
       "Pipeline(steps=[('vectorizer', TfidfVectorizer(ngram_range=(1, 2))),\n",
       "                ('lr', LogisticRegression(C=100))])"
      ]
     },
     "execution_count": 18,
     "metadata": {},
     "output_type": "execute_result"
    }
   ],
   "source": [
    "# Lets look the best Pipeline\n",
    "best_pipeline = grid_search.best_estimator_\n",
    "\n",
    "# Fit again for best pipeline \n",
    "best_pipeline.fit(X_train, y_train)"
   ]
  },
  {
   "cell_type": "markdown",
   "metadata": {},
   "source": [
    "#### Model evaluating"
   ]
  },
  {
   "cell_type": "code",
   "execution_count": 19,
   "metadata": {},
   "outputs": [
    {
     "name": "stdout",
     "output_type": "stream",
     "text": [
      "F1-SCORE ON TRAIN: 1.0\n",
      "F1-SCORE ON TEST: 0.9024947818308319\n"
     ]
    }
   ],
   "source": [
    "print(f\"F1-SCORE ON TRAIN: {f1_score(y_train, best_pipeline.predict(X_train))}\")\n",
    "print(f\"F1-SCORE ON TEST: {f1_score(y_test, best_pipeline.predict(X_test))}\")"
   ]
  },
  {
   "cell_type": "code",
   "execution_count": 20,
   "metadata": {},
   "outputs": [
    {
     "data": {
      "image/png": "[encoded data removed]",
      "text/plain": [
       "<Figure size 640x480 with 2 Axes>"
      ]
     },
     "metadata": {},
     "output_type": "display_data"
    }
   ],
   "source": [
    "cm_display = ConfusionMatrixDisplay(confusion_matrix=confusion_matrix(y_test, best_pipeline.predict(X_test)))\n",
    "cm_display.plot()\n",
    "plt.show()"
   ]
  },
  {
   "cell_type": "code",
   "execution_count": 21,
   "metadata": {},
   "outputs": [
    {
     "data": {
      "image/png": "[encoded data removed]",
      "text/plain": [
       "<Figure size 640x480 with 1 Axes>"
      ]
     },
     "metadata": {},
     "output_type": "display_data"
    }
   ],
   "source": [
    "# Roc-auc score\n",
    "fpr, tpr, thresholds = roc_curve(y_test, best_pipeline.predict(X_test))\n",
    "roc_auc = auc(fpr, tpr)\n",
    "display = RocCurveDisplay(fpr=fpr, tpr=tpr, roc_auc=roc_auc, estimator_name='TfIDf + Logreg')\n",
    "\n",
    "display.plot()\n",
    "plt.show()"
   ]
  },
  {
   "cell_type": "code",
   "execution_count": 58,
   "metadata": {},
   "outputs": [],
   "source": [
    "def regex_text_preprocessing(texts: list[str]) ->list[str]:\n",
    "    regex_prep = [symbols_remove(text) for text in texts]     # RegEx preprocessing\n",
    "    return [text_preprocessing(text) for text in regex_prep]  # Text preprocessing\n",
    "\n",
    "\n",
    "text_prep_transformer = FunctionTransformer(regex_text_preprocessing)"
   ]
  },
  {
   "cell_type": "code",
   "execution_count": 47,
   "metadata": {},
   "outputs": [
    {
     "data": {
      "text/html": [
       "<style>#sk-container-id-11 {color: black;}#sk-container-id-11 pre{padding: 0;}#sk-container-id-11 div.sk-toggleable {background-color: white;}#sk-container-id-11 label.sk-toggleable__label {cursor: pointer;display: block;width: 100%;margin-bottom: 0;padding: 0.3em;box-sizing: border-box;text-align: center;}#sk-container-id-11 label.sk-toggleable__label-arrow:before {content: \"▸\";float: left;margin-right: 0.25em;color: #696969;}#sk-container-id-11 label.sk-toggleable__label-arrow:hover:before {color: black;}#sk-container-id-11 div.sk-estimator:hover label.sk-toggleable__label-arrow:before {color: black;}#sk-container-id-11 div.sk-toggleable__content {max-height: 0;max-width: 0;overflow: hidden;text-align: left;background-color: #f0f8ff;}#sk-container-id-11 div.sk-toggleable__content pre {margin: 0.2em;color: black;border-radius: 0.25em;background-color: #f0f8ff;}#sk-container-id-11 input.sk-toggleable__control:checked~div.sk-toggleable__content {max-height: 200px;max-width: 100%;overflow: auto;}#sk-container-id-11 input.sk-toggleable__control:checked~label.sk-toggleable__label-arrow:before {content: \"▾\";}#sk-container-id-11 div.sk-estimator input.sk-toggleable__control:checked~label.sk-toggleable__label {background-color: #d4ebff;}#sk-container-id-11 div.sk-label input.sk-toggleable__control:checked~label.sk-toggleable__label {background-color: #d4ebff;}#sk-container-id-11 input.sk-hidden--visually {border: 0;clip: rect(1px 1px 1px 1px);clip: rect(1px, 1px, 1px, 1px);height: 1px;margin: -1px;overflow: hidden;padding: 0;position: absolute;width: 1px;}#sk-container-id-11 div.sk-estimator {font-family: monospace;background-color: #f0f8ff;border: 1px dotted black;border-radius: 0.25em;box-sizing: border-box;margin-bottom: 0.5em;}#sk-container-id-11 div.sk-estimator:hover {background-color: #d4ebff;}#sk-container-id-11 div.sk-parallel-item::after {content: \"\";width: 100%;border-bottom: 1px solid gray;flex-grow: 1;}#sk-container-id-11 div.sk-label:hover label.sk-toggleable__label {background-color: #d4ebff;}#sk-container-id-11 div.sk-serial::before {content: \"\";position: absolute;border-left: 1px solid gray;box-sizing: border-box;top: 0;bottom: 0;left: 50%;z-index: 0;}#sk-container-id-11 div.sk-serial {display: flex;flex-direction: column;align-items: center;background-color: white;padding-right: 0.2em;padding-left: 0.2em;position: relative;}#sk-container-id-11 div.sk-item {position: relative;z-index: 1;}#sk-container-id-11 div.sk-parallel {display: flex;align-items: stretch;justify-content: center;background-color: white;position: relative;}#sk-container-id-11 div.sk-item::before, #sk-container-id-11 div.sk-parallel-item::before {content: \"\";position: absolute;border-left: 1px solid gray;box-sizing: border-box;top: 0;bottom: 0;left: 50%;z-index: -1;}#sk-container-id-11 div.sk-parallel-item {display: flex;flex-direction: column;z-index: 1;position: relative;background-color: white;}#sk-container-id-11 div.sk-parallel-item:first-child::after {align-self: flex-end;width: 50%;}#sk-container-id-11 div.sk-parallel-item:last-child::after {align-self: flex-start;width: 50%;}#sk-container-id-11 div.sk-parallel-item:only-child::after {width: 0;}#sk-container-id-11 div.sk-dashed-wrapped {border: 1px dashed gray;margin: 0 0.4em 0.5em 0.4em;box-sizing: border-box;padding-bottom: 0.4em;background-color: white;}#sk-container-id-11 div.sk-label label {font-family: monospace;font-weight: bold;display: inline-block;line-height: 1.2em;}#sk-container-id-11 div.sk-label-container {text-align: center;}#sk-container-id-11 div.sk-container {/* jupyter's `normalize.less` sets `[hidden] { display: none; }` but bootstrap.min.css set `[hidden] { display: none !important; }` so we also need the `!important` here to be able to override the default hidden behavior on the sphinx rendered scikit-learn.org. See: https://github.com/scikit-learn/scikit-learn/issues/21755 */display: inline-block !important;position: relative;}#sk-container-id-11 div.sk-text-repr-fallback {display: none;}</style><div id=\"sk-container-id-11\" class=\"sk-top-container\"><div class=\"sk-text-repr-fallback\"><pre>Pipeline(steps=[[&#x27;preprocessor&#x27;,\n",
       "                 FunctionTransformer(func=&lt;function regex_text_preprocessing at 0x0000011802BFDB20&gt;)],\n",
       "                (&#x27;vectorizer&#x27;, TfidfVectorizer(ngram_range=(1, 2))),\n",
       "                (&#x27;lr&#x27;, LogisticRegression(C=100))])</pre><b>In a Jupyter environment, please rerun this cell to show the HTML representation or trust the notebook. <br />On GitHub, the HTML representation is unable to render, please try loading this page with nbviewer.org.</b></div><div class=\"sk-container\" hidden><div class=\"sk-item sk-dashed-wrapped\"><div class=\"sk-label-container\"><div class=\"sk-label sk-toggleable\"><input class=\"sk-toggleable__control sk-hidden--visually\" id=\"sk-estimator-id-23\" type=\"checkbox\" ><label for=\"sk-estimator-id-23\" class=\"sk-toggleable__label sk-toggleable__label-arrow\">Pipeline</label><div class=\"sk-toggleable__content\"><pre>Pipeline(steps=[[&#x27;preprocessor&#x27;,\n",
       "                 FunctionTransformer(func=&lt;function regex_text_preprocessing at 0x0000011802BFDB20&gt;)],\n",
       "                (&#x27;vectorizer&#x27;, TfidfVectorizer(ngram_range=(1, 2))),\n",
       "                (&#x27;lr&#x27;, LogisticRegression(C=100))])</pre></div></div></div><div class=\"sk-serial\"><div class=\"sk-item\"><div class=\"sk-estimator sk-toggleable\"><input class=\"sk-toggleable__control sk-hidden--visually\" id=\"sk-estimator-id-24\" type=\"checkbox\" ><label for=\"sk-estimator-id-24\" class=\"sk-toggleable__label sk-toggleable__label-arrow\">FunctionTransformer</label><div class=\"sk-toggleable__content\"><pre>FunctionTransformer(func=&lt;function regex_text_preprocessing at 0x0000011802BFDB20&gt;)</pre></div></div></div><div class=\"sk-item\"><div class=\"sk-estimator sk-toggleable\"><input class=\"sk-toggleable__control sk-hidden--visually\" id=\"sk-estimator-id-25\" type=\"checkbox\" ><label for=\"sk-estimator-id-25\" class=\"sk-toggleable__label sk-toggleable__label-arrow\">TfidfVectorizer</label><div class=\"sk-toggleable__content\"><pre>TfidfVectorizer(ngram_range=(1, 2))</pre></div></div></div><div class=\"sk-item\"><div class=\"sk-estimator sk-toggleable\"><input class=\"sk-toggleable__control sk-hidden--visually\" id=\"sk-estimator-id-26\" type=\"checkbox\" ><label for=\"sk-estimator-id-26\" class=\"sk-toggleable__label sk-toggleable__label-arrow\">LogisticRegression</label><div class=\"sk-toggleable__content\"><pre>LogisticRegression(C=100)</pre></div></div></div></div></div></div></div>"
      ],
      "text/plain": [
       "Pipeline(steps=[['preprocessor',\n",
       "                 FunctionTransformer(func=<function regex_text_preprocessing at 0x0000011802BFDB20>)],\n",
       "                ('vectorizer', TfidfVectorizer(ngram_range=(1, 2))),\n",
       "                ('lr', LogisticRegression(C=100))])"
      ]
     },
     "execution_count": 47,
     "metadata": {},
     "output_type": "execute_result"
    }
   ],
   "source": [
    "# Let's look at final pipeline\n",
    "best_pipeline"
   ]
  },
  {
   "cell_type": "code",
   "execution_count": 140,
   "metadata": {},
   "outputs": [
    {
     "data": {
      "text/plain": [
       "array([0, 0, 1, 1, 1, 0, 0], dtype=int8)"
      ]
     },
     "execution_count": 140,
     "metadata": {},
     "output_type": "execute_result"
    }
   ],
   "source": [
    "# Evaluation on some texts\n",
    "best_pipeline.predict(['Very awfull movie!',                                         # OK \n",
    "                       'This movie is so bad!',                                      # OK  \n",
    "                       'I am very glad that i could see this movie! Excellent!',     # OK\n",
    "                       'Very cool',                                                  # OK\n",
    "                       'Nice movie, thank you sir',                                  # OK\n",
    "                       'Not bad! I will review this movie',                          # Bad, because LogReg can't process the sequence\n",
    "                       'I cant watch this movie'])                                   # OK                     "
   ]
  },
  {
   "cell_type": "code",
   "execution_count": 59,
   "metadata": {},
   "outputs": [],
   "source": [
    "# Model saving\n",
    "\n",
    "MODEL_SAVE_PATH = r\"text_classification_models\\log_reg_pipeline\"\n",
    "\n",
    "with open(MODEL_SAVE_PATH, 'wb') as file:\n",
    "    pickle.dump(best_pipeline, file)"
   ]
  },
  {
   "cell_type": "markdown",
   "metadata": {},
   "source": [
    "# Text classification using RNN"
   ]
  },
  {
   "cell_type": "code",
   "execution_count": 10,
   "metadata": {},
   "outputs": [],
   "source": [
    "from tensorflow import keras\n",
    "\n",
    "from keras.optimizers import Adam\n",
    "from keras.losses import binary_crossentropy\n",
    "from keras import backend as K\n",
    "\n",
    "from keras.models import Sequential\n",
    "from keras.layers import LSTM, GRU, LayerNormalization, BatchNormalization, Dropout, Embedding, Dense, Bidirectional\n",
    "\n",
    "from  keras.preprocessing.text import Tokenizer\n",
    "from keras.preprocessing.sequence import pad_sequences \n",
    "from keras.activations import elu, relu"
   ]
  },
  {
   "cell_type": "code",
   "execution_count": 11,
   "metadata": {},
   "outputs": [
    {
     "data": {
      "text/html": [
       "<div>\n",
       "<style scoped>\n",
       "    .dataframe tbody tr th:only-of-type {\n",
       "        vertical-align: middle;\n",
       "    }\n",
       "\n",
       "    .dataframe tbody tr th {\n",
       "        vertical-align: top;\n",
       "    }\n",
       "\n",
       "    .dataframe thead th {\n",
       "        text-align: right;\n",
       "    }\n",
       "</style>\n",
       "<table border=\"1\" class=\"dataframe\">\n",
       "  <thead>\n",
       "    <tr style=\"text-align: right;\">\n",
       "      <th></th>\n",
       "      <th>text</th>\n",
       "      <th>preprocess_text</th>\n",
       "      <th>label</th>\n",
       "    </tr>\n",
       "  </thead>\n",
       "  <tbody>\n",
       "    <tr>\n",
       "      <th>0</th>\n",
       "      <td>One of the other reviewers has mentioned that ...</td>\n",
       "      <td>one review mention watch oz episod youll hook ...</td>\n",
       "      <td>1</td>\n",
       "    </tr>\n",
       "    <tr>\n",
       "      <th>1</th>\n",
       "      <td>A wonderful little production. &lt;br /&gt;&lt;br /&gt;The...</td>\n",
       "      <td>wonder littl product br br film techniqu unass...</td>\n",
       "      <td>1</td>\n",
       "    </tr>\n",
       "    <tr>\n",
       "      <th>2</th>\n",
       "      <td>I thought this was a wonderful way to spend ti...</td>\n",
       "      <td>thought wonder way spend time hot summer weeke...</td>\n",
       "      <td>1</td>\n",
       "    </tr>\n",
       "    <tr>\n",
       "      <th>3</th>\n",
       "      <td>Basically there's a family where a little boy ...</td>\n",
       "      <td>basic there famili littl boy jake think there ...</td>\n",
       "      <td>0</td>\n",
       "    </tr>\n",
       "    <tr>\n",
       "      <th>4</th>\n",
       "      <td>Petter Mattei's \"Love in the Time of Money\" is...</td>\n",
       "      <td>petter mattei love time money visual stun film...</td>\n",
       "      <td>1</td>\n",
       "    </tr>\n",
       "    <tr>\n",
       "      <th>...</th>\n",
       "      <td>...</td>\n",
       "      <td>...</td>\n",
       "      <td>...</td>\n",
       "    </tr>\n",
       "    <tr>\n",
       "      <th>49995</th>\n",
       "      <td>I thought this movie did a down right good job...</td>\n",
       "      <td>thought movi right good job wasnt creativ orig...</td>\n",
       "      <td>1</td>\n",
       "    </tr>\n",
       "    <tr>\n",
       "      <th>49996</th>\n",
       "      <td>Bad plot, bad dialogue, bad acting, idiotic di...</td>\n",
       "      <td>bad plot bad dialogu bad act idiot direct anno...</td>\n",
       "      <td>0</td>\n",
       "    </tr>\n",
       "    <tr>\n",
       "      <th>49997</th>\n",
       "      <td>I am a Catholic taught in parochial elementary...</td>\n",
       "      <td>cathol taught parochi elementari school nun ta...</td>\n",
       "      <td>0</td>\n",
       "    </tr>\n",
       "    <tr>\n",
       "      <th>49998</th>\n",
       "      <td>I'm going to have to disagree with the previou...</td>\n",
       "      <td>im go disagre previous comment side maltin one...</td>\n",
       "      <td>0</td>\n",
       "    </tr>\n",
       "    <tr>\n",
       "      <th>49999</th>\n",
       "      <td>No one expects the Star Trek movies to be high...</td>\n",
       "      <td>one expect star trek movi high art fan expect ...</td>\n",
       "      <td>0</td>\n",
       "    </tr>\n",
       "  </tbody>\n",
       "</table>\n",
       "<p>50000 rows × 3 columns</p>\n",
       "</div>"
      ],
      "text/plain": [
       "                                                    text  \\\n",
       "0      One of the other reviewers has mentioned that ...   \n",
       "1      A wonderful little production. <br /><br />The...   \n",
       "2      I thought this was a wonderful way to spend ti...   \n",
       "3      Basically there's a family where a little boy ...   \n",
       "4      Petter Mattei's \"Love in the Time of Money\" is...   \n",
       "...                                                  ...   \n",
       "49995  I thought this movie did a down right good job...   \n",
       "49996  Bad plot, bad dialogue, bad acting, idiotic di...   \n",
       "49997  I am a Catholic taught in parochial elementary...   \n",
       "49998  I'm going to have to disagree with the previou...   \n",
       "49999  No one expects the Star Trek movies to be high...   \n",
       "\n",
       "                                         preprocess_text  label  \n",
       "0      one review mention watch oz episod youll hook ...      1  \n",
       "1      wonder littl product br br film techniqu unass...      1  \n",
       "2      thought wonder way spend time hot summer weeke...      1  \n",
       "3      basic there famili littl boy jake think there ...      0  \n",
       "4      petter mattei love time money visual stun film...      1  \n",
       "...                                                  ...    ...  \n",
       "49995  thought movi right good job wasnt creativ orig...      1  \n",
       "49996  bad plot bad dialogu bad act idiot direct anno...      0  \n",
       "49997  cathol taught parochi elementari school nun ta...      0  \n",
       "49998  im go disagre previous comment side maltin one...      0  \n",
       "49999  one expect star trek movi high art fan expect ...      0  \n",
       "\n",
       "[50000 rows x 3 columns]"
      ]
     },
     "execution_count": 11,
     "metadata": {},
     "output_type": "execute_result"
    }
   ],
   "source": [
    "df"
   ]
  },
  {
   "cell_type": "code",
   "execution_count": 12,
   "metadata": {},
   "outputs": [],
   "source": [
    "# Hyperparameters \n",
    "max_words = 130000  # max number of words to use in the vocabulary\n",
    "max_len = 270  # max length of each text (in terms of number of words)\n",
    "embedding_dim = 250  # dimension of word embeddings\n",
    "\n",
    "# Tokenize the texts and create a vocabulary\n",
    "tokenizer = Tokenizer(num_words=max_words)\n",
    "\n",
    "X_train, X_test, y_train, y_test = train_test_split(df['preprocess_text'],\n",
    "                                                    df['label'], \n",
    "                                                    shuffle=True,\n",
    "                                                    random_state=50)\n",
    "\n",
    "tokenizer.fit_on_texts(X_train)  # Create vocabulary of words\n",
    "\n",
    "train_sequences = tokenizer.texts_to_sequences(X_train)\n",
    "test_sequences = tokenizer.texts_to_sequences(X_test)\n",
    "\n",
    "# Pad the sequences so they all have the same length (Now, we are working with X_train_seq, y_train |||| X_test_seq, y_test)\n",
    "X_train_seq = pad_sequences(train_sequences, maxlen=max_len)\n",
    "X_test_seq = pad_sequences(test_sequences, maxlen=max_len)"
   ]
  },
  {
   "cell_type": "code",
   "execution_count": 13,
   "metadata": {},
   "outputs": [
    {
     "data": {
      "text/plain": [
       "array([    0,     0,     0,     0,     0,     0,     0,     0,     0,\n",
       "           0,     0,     0,     0,     0,     0,     0,     0,     0,\n",
       "           0,     0,     0,     0,     0,     0,     0,     0,     0,\n",
       "           0,     0,     0,     0,     0,     0,     0,     0,     0,\n",
       "           0,     0,     0,     0,     0,     0,     0,     0,     0,\n",
       "           0,     0,     0,     0,     0,     0,     0,     0,     0,\n",
       "           0,     0,     0,     0,     0,     0,     0,     0,     0,\n",
       "           0,     0,     0,     0,     0,     0,     0,     0,     0,\n",
       "           0,     0,     0,     0,     0,     0,     0,     0,     0,\n",
       "           0,     0,     0,     0,     0,     0,     0,     0,     0,\n",
       "           0,     0,     0,     0,     0,     0,     0,     0,     0,\n",
       "           0,     0,     0,     0,     0,     0,     0,     0,     0,\n",
       "           0,     0,     0,     0,  1399,  1734,  1017,   324,  1250,\n",
       "        1314,    65,  1201,   288,  1554,  9435,    65, 36294,  4600,\n",
       "          42,   651,  7611,  9831,  3070,   947, 48491,  1269,  3133,\n",
       "          99,   145,   217,  3133,  1038,     9,  6248, 22235,    80,\n",
       "        1857,   840,  8647,    12,    22,  5563, 16632,  3038,  1203,\n",
       "        1063,  2345,  1314,    16,  1204,    86,   288,  1757,   204,\n",
       "         583,  2943,   288,  3325,    73,    91,  1314,     1,     1,\n",
       "          44,   671,   582,    10,   464,   722,  1882,   288,    53,\n",
       "          97,   398,  1007,   350,  2896,    65,  2267,  4216,   603,\n",
       "         532,   108,    21,    75,   178,    47,  2954, 12861,   108,\n",
       "         174,   653, 14156,   456,   821,  1221,   398,    41,   872,\n",
       "          34,   620, 14157,   268,   363,   207,  3286, 20688,  2391,\n",
       "         633,  2391,  2000,   410,   530,  3623,     1,   947,  1314,\n",
       "        3470,   723,   644,  3364,     8,    29,  5290,  1236,     3,\n",
       "        2609,   907,    65,    14,  1314, 10044,     1,  4453,  2562,\n",
       "        1293,   212,   610,    85,    31,     3,    12,  5563,    11,\n",
       "        3038,   144,    82,    16,    27,   501,  1314,  6853,   288,\n",
       "          14,    58,    45,   374,  3208,     1,    57,  5563,  3038])"
      ]
     },
     "execution_count": 13,
     "metadata": {},
     "output_type": "execute_result"
    }
   ],
   "source": [
    "# Example of text sequence\n",
    "X_train_seq[0]"
   ]
  },
  {
   "cell_type": "code",
   "execution_count": null,
   "metadata": {},
   "outputs": [],
   "source": [
    "callbacks = [\n",
    "    keras.callbacks.EarlyStopping(monitor='loss', min_delta=0.01, patience=6, verbose=1),  \n",
    "    keras.callbacks.ReduceLROnPlateau(monitor='loss', factor=0.1, min_delta=0.01, min_lr=1e-10, patience=3, verbose=1, mode='auto')\n",
    "]"
   ]
  },
  {
   "cell_type": "markdown",
   "metadata": {},
   "source": [
    "#### LSTM "
   ]
  },
  {
   "cell_type": "code",
   "execution_count": 23,
   "metadata": {},
   "outputs": [],
   "source": [
    "lstm_model = Sequential()\n",
    "lstm_model.add(Embedding(max_words, embedding_dim, input_length=max_len))\n",
    "\n",
    "lstm_model.add(LSTM(32, return_sequences=True))\n",
    "\n",
    "lstm_model.add(LSTM(16, return_sequences=True))\n",
    "lstm_model.add(LayerNormalization())\n",
    "\n",
    "lstm_model.add(LSTM(8, return_sequences=False))\n",
    "\n",
    "lstm_model.add(Dense(1, activation='sigmoid'))"
   ]
  },
  {
   "cell_type": "code",
   "execution_count": 25,
   "metadata": {},
   "outputs": [],
   "source": [
    "lstm_model.compile(metrics=['accuracy'],\n",
    "              loss='binary_crossentropy',\n",
    "              optimizer=Adam())"
   ]
  },
  {
   "cell_type": "code",
   "execution_count": 26,
   "metadata": {},
   "outputs": [
    {
     "name": "stdout",
     "output_type": "stream",
     "text": [
      "Epoch 1/8\n",
      "528/528 [==============================] - 223s 413ms/step - loss: 0.3790 - accuracy: 0.8333 - val_loss: 0.2897 - val_accuracy: 0.8816 - lr: 0.0010\n",
      "Epoch 2/8\n",
      "528/528 [==============================] - 228s 432ms/step - loss: 0.1784 - accuracy: 0.9363 - val_loss: 0.2992 - val_accuracy: 0.8803 - lr: 0.0010\n",
      "Epoch 3/8\n",
      "528/528 [==============================] - 230s 435ms/step - loss: 0.0936 - accuracy: 0.9703 - val_loss: 0.4128 - val_accuracy: 0.8763 - lr: 0.0010\n",
      "Epoch 4/8\n",
      "528/528 [==============================] - 217s 412ms/step - loss: 0.0574 - accuracy: 0.9826 - val_loss: 0.4615 - val_accuracy: 0.8733 - lr: 0.0010\n",
      "Epoch 5/8\n",
      "528/528 [==============================] - 228s 432ms/step - loss: 0.0389 - accuracy: 0.9895 - val_loss: 0.5126 - val_accuracy: 0.8453 - lr: 0.0010\n",
      "Epoch 6/8\n",
      "528/528 [==============================] - 219s 414ms/step - loss: 0.0260 - accuracy: 0.9933 - val_loss: 0.5210 - val_accuracy: 0.8651 - lr: 0.0010\n",
      "Epoch 7/8\n",
      "528/528 [==============================] - 222s 420ms/step - loss: 0.0299 - accuracy: 0.9915 - val_loss: 0.5011 - val_accuracy: 0.8771 - lr: 0.0010\n",
      "Epoch 8/8\n",
      "528/528 [==============================] - 216s 408ms/step - loss: 0.0242 - accuracy: 0.9934 - val_loss: 0.5241 - val_accuracy: 0.8557 - lr: 0.0010\n"
     ]
    }
   ],
   "source": [
    "history = lstm_model.fit(X_train_seq, y_train,\n",
    "                    batch_size=64,\n",
    "                    epochs=8,\n",
    "                    validation_split=0.1,\n",
    "                    callbacks=callbacks)"
   ]
  },
  {
   "cell_type": "code",
   "execution_count": 56,
   "metadata": {},
   "outputs": [
    {
     "name": "stdout",
     "output_type": "stream",
     "text": [
      "LSTM ACC ON TEST: 0.8514400124549866\n"
     ]
    }
   ],
   "source": [
    "print(f'LSTM ACC ON TEST: {lstm_model.evaluate(X_test_seq, y_test, verbose=False)[1]}')"
   ]
  },
  {
   "cell_type": "markdown",
   "metadata": {},
   "source": [
    "#### Bidirectional LSTM"
   ]
  },
  {
   "cell_type": "code",
   "execution_count": 28,
   "metadata": {},
   "outputs": [],
   "source": [
    "bi_lstm_model = Sequential()\n",
    "bi_lstm_model.add(Embedding(max_words, embedding_dim, input_length=max_len))\n",
    "\n",
    "bi_lstm_model.add(Bidirectional(LSTM(32, return_sequences=True)))\n",
    "\n",
    "bi_lstm_model.add(Bidirectional(LSTM(16, return_sequences=True)))\n",
    "bi_lstm_model.add(LayerNormalization())\n",
    "\n",
    "bi_lstm_model.add(Bidirectional(LSTM(8, return_sequences=False)))\n",
    "\n",
    "bi_lstm_model.add(Dense(1, activation='sigmoid'))"
   ]
  },
  {
   "cell_type": "code",
   "execution_count": 29,
   "metadata": {},
   "outputs": [],
   "source": [
    "bi_lstm_model.compile(metrics=['accuracy'],\n",
    "              loss='binary_crossentropy',\n",
    "              optimizer=Adam())"
   ]
  },
  {
   "cell_type": "code",
   "execution_count": 30,
   "metadata": {},
   "outputs": [
    {
     "name": "stdout",
     "output_type": "stream",
     "text": [
      "Epoch 1/8\n",
      "528/528 [==============================] - 345s 636ms/step - loss: 0.3729 - accuracy: 0.8426 - val_loss: 0.3063 - val_accuracy: 0.8789 - lr: 0.0010\n",
      "Epoch 2/8\n",
      "528/528 [==============================] - 339s 643ms/step - loss: 0.1838 - accuracy: 0.9364 - val_loss: 0.3560 - val_accuracy: 0.8517 - lr: 0.0010\n",
      "Epoch 3/8\n",
      "528/528 [==============================] - 329s 624ms/step - loss: 0.1012 - accuracy: 0.9687 - val_loss: 0.3418 - val_accuracy: 0.8776 - lr: 0.0010\n",
      "Epoch 4/8\n",
      "528/528 [==============================] - 335s 635ms/step - loss: 0.0593 - accuracy: 0.9836 - val_loss: 0.4392 - val_accuracy: 0.8776 - lr: 0.0010\n",
      "Epoch 5/8\n",
      "528/528 [==============================] - 330s 625ms/step - loss: 0.0505 - accuracy: 0.9861 - val_loss: 0.4040 - val_accuracy: 0.8688 - lr: 0.0010\n",
      "Epoch 6/8\n",
      "528/528 [==============================] - 336s 637ms/step - loss: 0.0419 - accuracy: 0.9884 - val_loss: 0.4919 - val_accuracy: 0.8712 - lr: 0.0010\n",
      "Epoch 7/8\n",
      "528/528 [==============================] - 336s 637ms/step - loss: 0.0293 - accuracy: 0.9927 - val_loss: 0.5593 - val_accuracy: 0.8720 - lr: 0.0010\n",
      "Epoch 8/8\n",
      "528/528 [==============================] - 327s 620ms/step - loss: 0.0366 - accuracy: 0.9899 - val_loss: 0.5019 - val_accuracy: 0.8611 - lr: 0.0010\n"
     ]
    }
   ],
   "source": [
    "history2 = bi_lstm_model.fit(X_train_seq, y_train,\n",
    "                    batch_size=64,\n",
    "                    epochs=8,\n",
    "                    validation_split=0.1,\n",
    "                    callbacks=callbacks)"
   ]
  },
  {
   "cell_type": "code",
   "execution_count": 55,
   "metadata": {},
   "outputs": [
    {
     "name": "stdout",
     "output_type": "stream",
     "text": [
      "Bi LSTM ACC ON TEST: 0.8600000143051147\n"
     ]
    }
   ],
   "source": [
    "print(f'Bi LSTM ACC ON TEST: {bi_lstm_model.evaluate(X_test_seq, y_test, verbose=False)[1]}')"
   ]
  },
  {
   "cell_type": "markdown",
   "metadata": {},
   "source": [
    "#### GRU"
   ]
  },
  {
   "cell_type": "code",
   "execution_count": 40,
   "metadata": {},
   "outputs": [],
   "source": [
    "gru_model = Sequential()\n",
    "gru_model.add(Embedding(max_words, embedding_dim, input_length=max_len))\n",
    "\n",
    "gru_model.add(GRU(8, return_sequences=True))\n",
    "gru_model.add(GRU(4, return_sequences=False))\n",
    "\n",
    "gru_model.add(Dense(1, activation='sigmoid'))"
   ]
  },
  {
   "cell_type": "code",
   "execution_count": 41,
   "metadata": {},
   "outputs": [],
   "source": [
    "gru_model.compile(metrics=['accuracy'],\n",
    "              loss='binary_crossentropy',\n",
    "              optimizer=Adam())"
   ]
  },
  {
   "cell_type": "code",
   "execution_count": 42,
   "metadata": {},
   "outputs": [
    {
     "name": "stdout",
     "output_type": "stream",
     "text": [
      "Epoch 1/8\n",
      "1055/1055 [==============================] - 315s 296ms/step - loss: 0.3907 - accuracy: 0.8251 - val_loss: 0.2851 - val_accuracy: 0.8885 - lr: 0.0010\n",
      "Epoch 2/8\n",
      "1055/1055 [==============================] - 308s 292ms/step - loss: 0.1719 - accuracy: 0.9392 - val_loss: 0.3058 - val_accuracy: 0.8848 - lr: 0.0010\n",
      "Epoch 3/8\n",
      "1055/1055 [==============================] - 298s 283ms/step - loss: 0.0778 - accuracy: 0.9761 - val_loss: 0.3711 - val_accuracy: 0.8784 - lr: 0.0010\n",
      "Epoch 4/8\n",
      "1055/1055 [==============================] - 298s 282ms/step - loss: 0.0339 - accuracy: 0.9905 - val_loss: 0.4644 - val_accuracy: 0.8688 - lr: 0.0010\n",
      "Epoch 5/8\n",
      "1055/1055 [==============================] - 323s 306ms/step - loss: 0.0175 - accuracy: 0.9956 - val_loss: 0.5242 - val_accuracy: 0.8749 - lr: 0.0010\n",
      "Epoch 6/8\n",
      "1055/1055 [==============================] - 319s 303ms/step - loss: 0.0118 - accuracy: 0.9967 - val_loss: 0.5444 - val_accuracy: 0.8747 - lr: 0.0010\n",
      "Epoch 7/8\n",
      "1055/1055 [==============================] - 315s 299ms/step - loss: 0.0081 - accuracy: 0.9979 - val_loss: 0.6426 - val_accuracy: 0.8648 - lr: 0.0010\n",
      "Epoch 8/8\n",
      "1055/1055 [==============================] - 336s 318ms/step - loss: 0.0053 - accuracy: 0.9986 - val_loss: 0.6390 - val_accuracy: 0.8693 - lr: 0.0010\n"
     ]
    }
   ],
   "source": [
    "history3 = gru_model.fit(X_train_seq, y_train,\n",
    "                    batch_size=16,\n",
    "                    epochs=5,\n",
    "                    validation_split=0.1,\n",
    "                    callbacks=callbacks)"
   ]
  },
  {
   "cell_type": "code",
   "execution_count": 53,
   "metadata": {},
   "outputs": [
    {
     "name": "stdout",
     "output_type": "stream",
     "text": [
      "GRU ACC ON TEST: 0.8694400191307068\n"
     ]
    }
   ],
   "source": [
    "print(f'GRU ACC ON TEST: {gru_model.evaluate(X_test_seq, y_test, verbose=False)[1]}')"
   ]
  },
  {
   "cell_type": "code",
   "execution_count": 61,
   "metadata": {},
   "outputs": [
    {
     "data": {
      "text/plain": [
       "[0.8250963091850281,\n",
       " 0.9391703605651855,\n",
       " 0.9760592579841614,\n",
       " 0.9905481338500977,\n",
       " 0.995555579662323,\n",
       " 0.9967407584190369,\n",
       " 0.997866690158844,\n",
       " 0.9985777735710144]"
      ]
     },
     "execution_count": 61,
     "metadata": {},
     "output_type": "execute_result"
    }
   ],
   "source": [
    "history3.history['accuracy']"
   ]
  },
  {
   "cell_type": "markdown",
   "metadata": {},
   "source": [
    "#### Models/results saving"
   ]
  },
  {
   "cell_type": "code",
   "execution_count": 137,
   "metadata": {},
   "outputs": [
    {
     "data": {
      "text/html": [
       "<div>\n",
       "<style scoped>\n",
       "    .dataframe tbody tr th:only-of-type {\n",
       "        vertical-align: middle;\n",
       "    }\n",
       "\n",
       "    .dataframe tbody tr th {\n",
       "        vertical-align: top;\n",
       "    }\n",
       "\n",
       "    .dataframe thead th {\n",
       "        text-align: right;\n",
       "    }\n",
       "</style>\n",
       "<table border=\"1\" class=\"dataframe\">\n",
       "  <thead>\n",
       "    <tr style=\"text-align: right;\">\n",
       "      <th></th>\n",
       "      <th>lstm_train</th>\n",
       "      <th>lstm_val</th>\n",
       "      <th>bi_lstm_train</th>\n",
       "      <th>bi_lstm_val</th>\n",
       "      <th>gru_train</th>\n",
       "      <th>gru_val</th>\n",
       "    </tr>\n",
       "  </thead>\n",
       "  <tbody>\n",
       "    <tr>\n",
       "      <th>0</th>\n",
       "      <td>0.833333</td>\n",
       "      <td>0.881600</td>\n",
       "      <td>0.842578</td>\n",
       "      <td>0.878933</td>\n",
       "      <td>0.825096</td>\n",
       "      <td>0.888533</td>\n",
       "    </tr>\n",
       "    <tr>\n",
       "      <th>1</th>\n",
       "      <td>0.936267</td>\n",
       "      <td>0.880267</td>\n",
       "      <td>0.936356</td>\n",
       "      <td>0.851733</td>\n",
       "      <td>0.939170</td>\n",
       "      <td>0.884800</td>\n",
       "    </tr>\n",
       "    <tr>\n",
       "      <th>2</th>\n",
       "      <td>0.970311</td>\n",
       "      <td>0.876267</td>\n",
       "      <td>0.968741</td>\n",
       "      <td>0.877600</td>\n",
       "      <td>0.976059</td>\n",
       "      <td>0.878400</td>\n",
       "    </tr>\n",
       "    <tr>\n",
       "      <th>3</th>\n",
       "      <td>0.982607</td>\n",
       "      <td>0.873333</td>\n",
       "      <td>0.983585</td>\n",
       "      <td>0.877600</td>\n",
       "      <td>0.990548</td>\n",
       "      <td>0.868800</td>\n",
       "    </tr>\n",
       "    <tr>\n",
       "      <th>4</th>\n",
       "      <td>0.989452</td>\n",
       "      <td>0.845333</td>\n",
       "      <td>0.986133</td>\n",
       "      <td>0.868800</td>\n",
       "      <td>0.995556</td>\n",
       "      <td>0.874933</td>\n",
       "    </tr>\n",
       "    <tr>\n",
       "      <th>5</th>\n",
       "      <td>0.993274</td>\n",
       "      <td>0.865067</td>\n",
       "      <td>0.988356</td>\n",
       "      <td>0.871200</td>\n",
       "      <td>0.996741</td>\n",
       "      <td>0.874667</td>\n",
       "    </tr>\n",
       "    <tr>\n",
       "      <th>6</th>\n",
       "      <td>0.991496</td>\n",
       "      <td>0.877067</td>\n",
       "      <td>0.992741</td>\n",
       "      <td>0.872000</td>\n",
       "      <td>0.997867</td>\n",
       "      <td>0.864800</td>\n",
       "    </tr>\n",
       "    <tr>\n",
       "      <th>7</th>\n",
       "      <td>0.993393</td>\n",
       "      <td>0.855733</td>\n",
       "      <td>0.989867</td>\n",
       "      <td>0.861067</td>\n",
       "      <td>0.998578</td>\n",
       "      <td>0.869333</td>\n",
       "    </tr>\n",
       "  </tbody>\n",
       "</table>\n",
       "</div>"
      ],
      "text/plain": [
       "   lstm_train  lstm_val  bi_lstm_train  bi_lstm_val  gru_train   gru_val\n",
       "0    0.833333  0.881600       0.842578     0.878933   0.825096  0.888533\n",
       "1    0.936267  0.880267       0.936356     0.851733   0.939170  0.884800\n",
       "2    0.970311  0.876267       0.968741     0.877600   0.976059  0.878400\n",
       "3    0.982607  0.873333       0.983585     0.877600   0.990548  0.868800\n",
       "4    0.989452  0.845333       0.986133     0.868800   0.995556  0.874933\n",
       "5    0.993274  0.865067       0.988356     0.871200   0.996741  0.874667\n",
       "6    0.991496  0.877067       0.992741     0.872000   0.997867  0.864800\n",
       "7    0.993393  0.855733       0.989867     0.861067   0.998578  0.869333"
      ]
     },
     "execution_count": 137,
     "metadata": {},
     "output_type": "execute_result"
    }
   ],
   "source": [
    "# Train / test on epochs\n",
    "result_df = pd.DataFrame(data={'lstm_train': history.history['accuracy'],\n",
    "                               'lstm_val': history.history['val_accuracy'],\n",
    "\n",
    "                               'bi_lstm_train': history2.history['accuracy'],\n",
    "                               'bi_lstm_val': history2.history['val_accuracy'],\n",
    "\n",
    "                               'gru_train': history3.history['accuracy'],\n",
    "                               'gru_val': history3.history['val_accuracy']\n",
    "                              })\n",
    "\n",
    "result_df.to_csv(r'text_classification_models\\rnn_epoch_results.csv', index=False)\n",
    "result_df"
   ]
  },
  {
   "cell_type": "code",
   "execution_count": 126,
   "metadata": {},
   "outputs": [],
   "source": [
    "# Accuracy Train / test \n",
    "lstm_train = lstm_model.evaluate(X_train_seq, y_train, verbose=False)[1]\n",
    "lstm_test = lstm_model.evaluate(X_test_seq, y_test, verbose=False)[1]\n",
    "\n",
    "bi_lstm_train = bi_lstm_model.evaluate(X_train_seq, y_train, verbose=False)[1]\n",
    "bi_lstm_test = bi_lstm_model.evaluate(X_test_seq, y_test, verbose=False)[1]\n",
    "\n",
    "gru_train = gru_model.evaluate(X_train_seq, y_train, verbose=False)[1]\n",
    "gru_test = gru_model.evaluate(X_test_seq, y_test, verbose=False)[1]"
   ]
  },
  {
   "cell_type": "code",
   "execution_count": 138,
   "metadata": {},
   "outputs": [
    {
     "data": {
      "text/html": [
       "<div>\n",
       "<style scoped>\n",
       "    .dataframe tbody tr th:only-of-type {\n",
       "        vertical-align: middle;\n",
       "    }\n",
       "\n",
       "    .dataframe tbody tr th {\n",
       "        vertical-align: top;\n",
       "    }\n",
       "\n",
       "    .dataframe thead th {\n",
       "        text-align: right;\n",
       "    }\n",
       "</style>\n",
       "<table border=\"1\" class=\"dataframe\">\n",
       "  <thead>\n",
       "    <tr style=\"text-align: right;\">\n",
       "      <th></th>\n",
       "      <th>LSTM</th>\n",
       "      <th>Bi LSTM</th>\n",
       "      <th>GRU</th>\n",
       "    </tr>\n",
       "  </thead>\n",
       "  <tbody>\n",
       "    <tr>\n",
       "      <th>Train</th>\n",
       "      <td>0.980827</td>\n",
       "      <td>0.979973</td>\n",
       "      <td>0.986427</td>\n",
       "    </tr>\n",
       "    <tr>\n",
       "      <th>Test</th>\n",
       "      <td>0.851440</td>\n",
       "      <td>0.860000</td>\n",
       "      <td>0.869440</td>\n",
       "    </tr>\n",
       "  </tbody>\n",
       "</table>\n",
       "</div>"
      ],
      "text/plain": [
       "           LSTM   Bi LSTM       GRU\n",
       "Train  0.980827  0.979973  0.986427\n",
       "Test   0.851440  0.860000  0.869440"
      ]
     },
     "execution_count": 138,
     "metadata": {},
     "output_type": "execute_result"
    }
   ],
   "source": [
    "df_acc = pd.DataFrame(data={\n",
    "                            'LSTM': [lstm_train, lstm_test],\n",
    "                            'Bi LSTM': [bi_lstm_train, bi_lstm_test],\n",
    "                            'GRU': [gru_train, gru_test]\n",
    "                           },\n",
    "                      \n",
    "                       index=['Train', 'Test'])\n",
    "\n",
    "df_acc.to_csv(r'text_classification_models\\metric_results.csv', index=False)\n",
    "df_acc"
   ]
  },
  {
   "cell_type": "code",
   "execution_count": null,
   "metadata": {},
   "outputs": [],
   "source": [
    "# Model saving\n",
    "keras.saving.save_model(lstm_model, r'text_classification_models\\lstm_model')                   # LSTM\n",
    "keras.saving.save_model(bi_lstm_model, r'text_classification_models\\bidirectional_lstm_model')  # Bi LSTM\n",
    "keras.saving.save_model(gru_model, r'text_classification_models\\gru_model')                     # GRU "
   ]
  },
  {
   "cell_type": "code",
   "execution_count": 144,
   "metadata": {},
   "outputs": [
    {
     "data": {
      "text/html": [
       "<div>\n",
       "<style scoped>\n",
       "    .dataframe tbody tr th:only-of-type {\n",
       "        vertical-align: middle;\n",
       "    }\n",
       "\n",
       "    .dataframe tbody tr th {\n",
       "        vertical-align: top;\n",
       "    }\n",
       "\n",
       "    .dataframe thead th {\n",
       "        text-align: right;\n",
       "    }\n",
       "</style>\n",
       "<table border=\"1\" class=\"dataframe\">\n",
       "  <thead>\n",
       "    <tr style=\"text-align: right;\">\n",
       "      <th></th>\n",
       "      <th>lstm_train</th>\n",
       "      <th>lstm_val</th>\n",
       "      <th>bi_lstm_train</th>\n",
       "      <th>bi_lstm_val</th>\n",
       "      <th>gru_train</th>\n",
       "      <th>gru_val</th>\n",
       "    </tr>\n",
       "  </thead>\n",
       "  <tbody>\n",
       "    <tr>\n",
       "      <th>0</th>\n",
       "      <td>0.833333</td>\n",
       "      <td>0.881600</td>\n",
       "      <td>0.842578</td>\n",
       "      <td>0.878933</td>\n",
       "      <td>0.842578</td>\n",
       "      <td>0.878933</td>\n",
       "    </tr>\n",
       "    <tr>\n",
       "      <th>1</th>\n",
       "      <td>0.936267</td>\n",
       "      <td>0.880267</td>\n",
       "      <td>0.936356</td>\n",
       "      <td>0.851733</td>\n",
       "      <td>0.936356</td>\n",
       "      <td>0.851733</td>\n",
       "    </tr>\n",
       "    <tr>\n",
       "      <th>2</th>\n",
       "      <td>0.970311</td>\n",
       "      <td>0.876267</td>\n",
       "      <td>0.968741</td>\n",
       "      <td>0.877600</td>\n",
       "      <td>0.968741</td>\n",
       "      <td>0.877600</td>\n",
       "    </tr>\n",
       "    <tr>\n",
       "      <th>3</th>\n",
       "      <td>0.982607</td>\n",
       "      <td>0.873333</td>\n",
       "      <td>0.983585</td>\n",
       "      <td>0.877600</td>\n",
       "      <td>0.983585</td>\n",
       "      <td>0.877600</td>\n",
       "    </tr>\n",
       "    <tr>\n",
       "      <th>4</th>\n",
       "      <td>0.989452</td>\n",
       "      <td>0.845333</td>\n",
       "      <td>0.986133</td>\n",
       "      <td>0.868800</td>\n",
       "      <td>0.986133</td>\n",
       "      <td>0.868800</td>\n",
       "    </tr>\n",
       "    <tr>\n",
       "      <th>5</th>\n",
       "      <td>0.993274</td>\n",
       "      <td>0.865067</td>\n",
       "      <td>0.988356</td>\n",
       "      <td>0.871200</td>\n",
       "      <td>0.988356</td>\n",
       "      <td>0.871200</td>\n",
       "    </tr>\n",
       "    <tr>\n",
       "      <th>6</th>\n",
       "      <td>0.991496</td>\n",
       "      <td>0.877067</td>\n",
       "      <td>0.992741</td>\n",
       "      <td>0.872000</td>\n",
       "      <td>0.992741</td>\n",
       "      <td>0.872000</td>\n",
       "    </tr>\n",
       "    <tr>\n",
       "      <th>7</th>\n",
       "      <td>0.993393</td>\n",
       "      <td>0.855733</td>\n",
       "      <td>0.989867</td>\n",
       "      <td>0.861067</td>\n",
       "      <td>0.989867</td>\n",
       "      <td>0.861067</td>\n",
       "    </tr>\n",
       "  </tbody>\n",
       "</table>\n",
       "</div>"
      ],
      "text/plain": [
       "   lstm_train  lstm_val  bi_lstm_train  bi_lstm_val  gru_train   gru_val\n",
       "0    0.833333  0.881600       0.842578     0.878933   0.842578  0.878933\n",
       "1    0.936267  0.880267       0.936356     0.851733   0.936356  0.851733\n",
       "2    0.970311  0.876267       0.968741     0.877600   0.968741  0.877600\n",
       "3    0.982607  0.873333       0.983585     0.877600   0.983585  0.877600\n",
       "4    0.989452  0.845333       0.986133     0.868800   0.986133  0.868800\n",
       "5    0.993274  0.865067       0.988356     0.871200   0.988356  0.871200\n",
       "6    0.991496  0.877067       0.992741     0.872000   0.992741  0.872000\n",
       "7    0.993393  0.855733       0.989867     0.861067   0.989867  0.861067"
      ]
     },
     "execution_count": 144,
     "metadata": {},
     "output_type": "execute_result"
    }
   ],
   "source": [
    "df"
   ]
  },
  {
   "cell_type": "markdown",
   "metadata": {},
   "source": [
    "#### Results"
   ]
  },
  {
   "cell_type": "code",
   "execution_count": 147,
   "metadata": {},
   "outputs": [
    {
     "data": {
      "image/png": "[encoded data removed]",
      "text/plain": [
       "<Figure size 640x480 with 1 Axes>"
      ]
     },
     "metadata": {},
     "output_type": "display_data"
    }
   ],
   "source": [
    "def plot_metric_per_epoch(df: pd.DataFrame):\n",
    "    fig, ax = plt.subplots()\n",
    "    ax.set(title='Val result', xlabel='Epoch', ylabel='Accuracy')\n",
    "    for column in df.columns:\n",
    "        ax.plot(df[column], label=column)\n",
    "    ax.legend()\n",
    "\n",
    "plot_metric_per_epoch(df)"
   ]
  },
  {
   "cell_type": "code",
   "execution_count": 148,
   "metadata": {},
   "outputs": [
    {
     "data": {
      "text/plain": [
       "[0.881600022315979,\n",
       " 0.8802666664123535,\n",
       " 0.8762666583061218,\n",
       " 0.8733333349227905,\n",
       " 0.8453333377838135,\n",
       " 0.865066647529602,\n",
       " 0.8770666718482971,\n",
       " 0.855733335018158]"
      ]
     },
     "execution_count": 148,
     "metadata": {},
     "output_type": "execute_result"
    }
   ],
   "source": [
    "history.history['val_accuracy']"
   ]
  }
 ],
 "metadata": {
  "kernelspec": {
   "display_name": "venv",
   "language": "python",
   "name": "python3"
  },
  "language_info": {
   "codemirror_mode": {
    "name": "ipython",
    "version": 3
   },
   "file_extension": ".py",
   "mimetype": "text/x-python",
   "name": "python",
   "nbconvert_exporter": "python",
   "pygments_lexer": "ipython3",
   "version": "3.11.5"
  }
 },
 "nbformat": 4,
 "nbformat_minor": 2
}
